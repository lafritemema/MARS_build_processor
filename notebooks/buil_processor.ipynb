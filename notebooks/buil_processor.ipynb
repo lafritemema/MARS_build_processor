{
 "cells": [
  {
   "cell_type": "code",
   "execution_count": 1,
   "metadata": {
    "collapsed": false
   },
   "outputs": [],
   "source": [
    "import bs4\n",
    "import json\n",
    "from enum import Enum, EnumMeta\n",
    "import numpy as np\n",
    "import pprint"
   ]
  },
  {
   "cell_type": "code",
   "execution_count": 2,
   "metadata": {
    "collapsed": true
   },
   "outputs": [],
   "source": [
    "class Payload:  \n",
    "    def __init__(self, id, weight):\n",
    "        self._id = id\n",
    "        self._weight = weight"
   ]
  },
  {
   "cell_type": "code",
   "execution_count": 3,
   "metadata": {
    "collapsed": false
   },
   "outputs": [],
   "source": [
    "class Effector:\n",
    "    def __init__(self, id, type, position, payload):\n",
    "        self._id = id\n",
    "        self._type = type\n",
    "        self._position = position\n",
    "        self._payload = payload"
   ]
  },
  {
   "cell_type": "markdown",
   "metadata": {},
   "source": [
    "### DEFINITION D'UN MOUVEMENT ET SES OBJETS ASSOCIES"
   ]
  },
  {
   "cell_type": "code",
   "execution_count": 4,
   "metadata": {
    "collapsed": false
   },
   "outputs": [],
   "source": [
    "class Point:\n",
    "    def __init__(self, cnt, speed, path, position):\n",
    "        self._cnt = cnt\n",
    "        self._speed = speed\n",
    "        self._position = position\n",
    "        self._path = path\n",
    "\n",
    "class Position:\n",
    "    def __init__(self, pvector, ptype, e1, config):\n",
    "        self._vector = pvector\n",
    "        self._type = ptype\n",
    "        self._config=config\n",
    "        self._e1 = e1\n",
    "\n",
    "class Path(Enum):\n",
    "    CIRCULAR='C'\n",
    "    LINEAR='L'\n",
    "    JOINT='J'\n",
    "    \n",
    "class PositionType(Enum):\n",
    "    JOINT='jnt'\n",
    "    CARTESIAN='crt'\n",
    "    \n",
    "class PositionCrt(Position):\n",
    "    def __init__(self, pvector, e1, config):\n",
    "        super(PositionCrt, self).__init__(pvector, PositionType.CARTESIAN, e1, config)\n",
    "    \n",
    "    def to_dict(self):\n",
    "        keys = ['x', 'y','z', 'w', 'p', 'r']\n",
    "        tl = [(keys[i], float(val)) for i, val in enumerate(self._vector.tolist())]\n",
    "        crt_dict = self.__dict__.copy()\n",
    "        crt_dict['_vector'] = dict(tl)\n",
    "        return crt_dict\n",
    "    \n",
    "    def get(self):\n",
    "        keys = ['x', 'y','z', 'w', 'p', 'r']\n",
    "        tl = [(keys[i], float(val)) for i, val in enumerate(self._vector.tolist())]\n",
    "        return {'vector':dict(tl), 'type':self._type.value, 'config':Serializer.to_dict(self._config), 'e1':float(self._e1)}\n",
    "            \n",
    "class PositionJoint(Position):\n",
    "    def __init__(self, pvector, e1):\n",
    "        super(PositionJoint, self).__init__(pvector, PositionType.JOINT, e1, None)\n",
    "    \n",
    "    def to_dict(self):\n",
    "        keys = ['j1', 'j2','j3', 'j4', 'j5', 'j6']\n",
    "        tl = [(keys[i], float(val)) for i, val in enumerate(self._vector.tolist())]\n",
    "        jnt_dict = self.__dict__.copy()\n",
    "        jnt_dict['_vector'] = dict(tl)\n",
    "        return jnt_dict\n",
    "        \n",
    "class ForeArm(Enum):\n",
    "    UP='U'\n",
    "    DOWN='D'\n",
    "    \n",
    "class Wrist(Enum):\n",
    "    FLIP='F'\n",
    "    NOFLIP='N'\n",
    "\n",
    "class Arm(Enum):\n",
    "    TOWARD='T'\n",
    "    BACKWARD='D'\n",
    "\n",
    "class Configuration:\n",
    "    def __init__(self, wrist, forearm, arm): #left\n",
    "        self._forarm = forearm\n",
    "        self._wrist = wrist\n",
    "        #self._left = left\n",
    "        self._arm = arm\n",
    "        self._j4 = 0\n",
    "        self._j5 = 0\n",
    "        self._j6 = 0\n",
    "\n",
    "class Movement:\n",
    "    def __init__(self, uf, ut, points):\n",
    "        self._uf = uf\n",
    "        self._ut = ut\n",
    "        self._points = points"
   ]
  },
  {
   "cell_type": "markdown",
   "metadata": {},
   "source": [
    "### DEFINITION DES TYPE D'ACTIONS"
   ]
  },
  {
   "cell_type": "code",
   "execution_count": 5,
   "metadata": {
    "collapsed": false
   },
   "outputs": [],
   "source": [
    "class EnumLevelInterface(EnumMeta):\n",
    "    \n",
    "    def __getitem__(self, name):\n",
    "        dot = name.find('.')\n",
    "        if dot!=-1:\n",
    "            cindex = name[:dot]\n",
    "            oindex = name[(dot+1):]\n",
    "            e = super().__getitem__(cindex).value\n",
    "            return e.__getitem__(oindex)\n",
    "        else:\n",
    "            e = super().__getitem__(name)\n",
    "            if EnumPriorityInterface in e.__class__.__bases__:\n",
    "                return e\n",
    "            else:\n",
    "                return e.value\n",
    "    \n",
    "class EnumPriorityInterface(Enum, metaclass=EnumLevelInterface):    \n",
    "    def __init__(self, priority, name):\n",
    "        self._priority = priority\n",
    "        self._name = name  \n",
    "    @property\n",
    "    def priority(self):\n",
    "        return self._priority\n",
    "    @property\n",
    "    def name(self):\n",
    "        return self._name\n",
    "\n",
    "class ActionArmMove(EnumPriorityInterface, metaclass=EnumLevelInterface):\n",
    "    APPROACH = (50, 'MOVE.ARM.APPROACH')\n",
    "    CLEARANCE = (50, 'MOVE.ARM.CLEARANCE')\n",
    "    WORK = (60, 'MOVE.ARM.WORK')\n",
    "\n",
    "class ActionStationMove(EnumPriorityInterface, metaclass=EnumLevelInterface):\n",
    "    WORK = (40, 'MOVE.STATION.WORK')\n",
    "    HOME = (10, 'MOVE.STATION.HOME')\n",
    "    \n",
    "class ActionLoad(EnumPriorityInterface, metaclass=EnumLevelInterface):\n",
    "    EFFECTOR=(20, 'LOAD.EFFECTOR')\n",
    "    TOOL=(30, 'LOAD.TOOL')\n",
    "\n",
    "class ActionUnload(EnumPriorityInterface, metaclass=EnumLevelInterface):\n",
    "    EFFECTOR=(20, 'UNLOAD.EFFECTOR')\n",
    "    TOOL=(30, 'UNLOAD.TOOL')\n",
    "\n",
    "class ActionWork(EnumPriorityInterface, metaclass=EnumLevelInterface):\n",
    "    DRILL=(70, 'WORK.DRILL')\n",
    "    FASTEN=(80, 'WORK.FASTEN')\n",
    "    \n",
    "class ActionMove(Enum, metaclass=EnumLevelInterface):\n",
    "    ARM = ActionArmMove\n",
    "    STATION = ActionStationMove\n",
    "    \n",
    "class ActionType(Enum, metaclass=EnumLevelInterface):\n",
    "    LOAD = ActionLoad\n",
    "    UNLOAD = ActionUnload\n",
    "    MOVE = ActionMove\n",
    "    WORK = ActionWork"
   ]
  },
  {
   "cell_type": "markdown",
   "metadata": {},
   "source": [
    "### DEFINITION DE L'OBJET ACTION"
   ]
  },
  {
   "cell_type": "code",
   "execution_count": 52,
   "metadata": {
    "collapsed": true
   },
   "outputs": [],
   "source": [
    "class Action:\n",
    "    def __init__(self, id, atype, definition, description, dependencies, anext):\n",
    "        self._id = id\n",
    "        self._type = atype\n",
    "        self._definition = definition\n",
    "        self._dependencies = dependencies\n",
    "        self._next = anext\n",
    "        self._description = description\n",
    "        \n",
    "    def __repr__(self):\n",
    "        return Serializer.serialize(self)"
   ]
  },
  {
   "cell_type": "markdown",
   "metadata": {},
   "source": [
    "### CLASS DE SERIALISATION"
   ]
  },
  {
   "cell_type": "code",
   "execution_count": 50,
   "metadata": {
    "collapsed": true
   },
   "outputs": [],
   "source": [
    "class Serializer:\n",
    "    @staticmethod\n",
    "    def serialize(obj, form=\"json\", database=False):\n",
    "        if(form ==\"json\"):\n",
    "            so = Serializer.to_dict(obj, database)\n",
    "            return json.dumps(so)\n",
    "    \n",
    "    @staticmethod\n",
    "    def to_dict(obj, database=False):\n",
    "        if obj.__class__.__module__ == 'builtins':\n",
    "            if type(obj) == list:\n",
    "                l=[] \n",
    "                for va in obj:\n",
    "                    l.append(Serializer.to_dict(va, database))\n",
    "                return l\n",
    "            elif type(obj) == dict:\n",
    "                d={} \n",
    "                for key, val in obj.items():\n",
    "                    k = key.replace('_','')\n",
    "                    v = Serializer.to_dict(val, database)   \n",
    "                    d[k]=v \n",
    "                return d\n",
    "            else :\n",
    "                return Serializer.__cast_val(obj)\n",
    "            \n",
    "        elif getattr(obj, 'to_dict', None):\n",
    "            return  Serializer.to_dict(obj.to_dict(), database)\n",
    "        \n",
    "        elif EnumPriorityInterface in obj.__class__.__bases__ or Enum in obj.__class__.__bases__:\n",
    "            if database : \n",
    "                return obj.name\n",
    "            else:\n",
    "                return obj.value\n",
    "        else:\n",
    "            so = {}\n",
    "            for key, val in obj.__dict__.items():\n",
    "                k = key.replace('_','')\n",
    "                v = Serializer.to_dict(val, database)   \n",
    "                so[k]=v\n",
    "            return so\n",
    "        \n",
    "        \n",
    "    @staticmethod\n",
    "    def __cast_val(val):\n",
    "        if isinstance(val, str) and val.isnumeric():\n",
    "            return int(val) if val.isdecimal() else float(val)\n",
    "        else:\n",
    "            return val"
   ]
  },
  {
   "cell_type": "markdown",
   "metadata": {},
   "source": [
    "### TEST DE LA SERIALISATION"
   ]
  },
  {
   "cell_type": "code",
   "execution_count": 8,
   "metadata": {
    "collapsed": true
   },
   "outputs": [],
   "source": [
    "# definition d'un vecteur representant la position haute de bras\n",
    "no_work_arm_joint_vector = np.array([0.0,25.0,40.0,113.0,-307.0])"
   ]
  },
  {
   "cell_type": "code",
   "execution_count": 9,
   "metadata": {
    "collapsed": false
   },
   "outputs": [],
   "source": [
    "# definition de la position home (bras postion no_work + e1 = 0) \n",
    "home_position = PositionJoint(no_work_arm_joint_vector, e1=0.0)\n",
    "\n",
    "# definition du mouvement home \n",
    "home_point = Point(100, 100, Path.JOINT, home_position)\n",
    "home_movement = Movement(1,1,[home_point])\n",
    "\n",
    "# definition de l'action mouvement vers home\n",
    "home_action = Action(0, ActionType['MOVE']['STATION']['HOME'], home_movement, 'move to home position', [], [])"
   ]
  },
  {
   "cell_type": "code",
   "execution_count": 10,
   "metadata": {
    "collapsed": false
   },
   "outputs": [],
   "source": [
    "# definition de la position station_1 (bras postion no_work + e1 = -300) \n",
    "station_1_e1 = -300.0\n",
    "station_1_position = PositionJoint(no_work_arm_joint_vector, e1=station_1_e1)\n",
    "\n",
    "# definition du mouvement moveto station1\n",
    "station_1_point = Point(100, 100, Path.JOINT, station_1_position)\n",
    "station_1_movement = Movement(1,1,[station_1_point])\n",
    "\n",
    "# definition de l'action mouvement vers home\n",
    "station_1_action = Action(0, ActionType['MOVE']['STATION']['WORK'], station_1_movement, 'move to station 1 position', [], [])"
   ]
  },
  {
   "cell_type": "code",
   "execution_count": 11,
   "metadata": {
    "collapsed": false
   },
   "outputs": [],
   "source": [
    "work1_config = Configuration(Wrist.FLIP, ForeArm.UP, Arm.TOWARD)\n",
    "work_1_point = Point(100,100,Path['LINEAR'], PositionCrt(np.array([0.0,25.0,40.0,113.0,-307]), e1=-300.0, config=work1_config))\n",
    "work_1_mvt = Movement(1,1, [work_1_point])\n",
    "work_1_action = Action(1, ActionType['MOVE']['ARM']['WORK'], work_1_mvt, \"move to point 1\", [], [])"
   ]
  },
  {
   "cell_type": "code",
   "execution_count": 12,
   "metadata": {
    "collapsed": false
   },
   "outputs": [
    {
     "data": {
      "text/plain": [
       "'{\"id\": 1, \"type\": [60, \"MOVE.ARM.WORK\"], \"definition\": {\"uf\": 1, \"ut\": 1, \"points\": [{\"cnt\": 100, \"speed\": 100, \"position\": {\"vector\": {\"x\": 0.0, \"y\": 25.0, \"z\": 40.0, \"w\": 113.0, \"p\": -307.0}, \"type\": \"crt\", \"config\": {\"forarm\": \"U\", \"wrist\": \"F\", \"arm\": \"T\", \"j4\": 0, \"j5\": 0, \"j6\": 0}, \"e1\": -300.0}, \"path\": \"L\"}]}, \"dependencies\": [], \"next\": [], \"description\": \"move to point 1\"}'"
      ]
     },
     "execution_count": 12,
     "metadata": {},
     "output_type": "execute_result"
    }
   ],
   "source": [
    "Serializer.serialize(work_1_action, database=False)"
   ]
  },
  {
   "cell_type": "code",
   "execution_count": 13,
   "metadata": {
    "collapsed": false
   },
   "outputs": [
    {
     "data": {
      "text/plain": [
       "'{\"id\": 0, \"type\": \"MOVE.STATION.HOME\", \"definition\": {\"uf\": 1, \"ut\": 1, \"points\": [{\"cnt\": 100, \"speed\": 100, \"position\": {\"vector\": {\"j1\": 0.0, \"j2\": 25.0, \"j3\": 40.0, \"j4\": 113.0, \"j5\": -307.0}, \"type\": \"JOINT\", \"config\": null, \"e1\": 0.0}, \"path\": \"JOINT\"}]}, \"dependencies\": [], \"next\": [], \"description\": \"move to home position\"}'"
      ]
     },
     "execution_count": 13,
     "metadata": {},
     "output_type": "execute_result"
    }
   ],
   "source": [
    "Serializer.serialize(home_action, database=True)"
   ]
  },
  {
   "cell_type": "code",
   "execution_count": 14,
   "metadata": {
    "collapsed": false
   },
   "outputs": [
    {
     "data": {
      "text/plain": [
       "'{\"vector\": {\"j1\": 0.0, \"j2\": 25.0, \"j3\": 40.0, \"j4\": 113.0, \"j5\": -307.0}, \"type\": \"JOINT\", \"config\": null, \"e1\": -300.0}'"
      ]
     },
     "execution_count": 14,
     "metadata": {},
     "output_type": "execute_result"
    }
   ],
   "source": [
    "Serializer.serialize(station_1_position, database=True)"
   ]
  },
  {
   "cell_type": "markdown",
   "metadata": {},
   "source": [
    "### PARSING XML ET CREATION DU PROCESS"
   ]
  },
  {
   "cell_type": "code",
   "execution_count": 15,
   "metadata": {
    "collapsed": true
   },
   "outputs": [],
   "source": [
    "import lxml"
   ]
  },
  {
   "cell_type": "code",
   "execution_count": 16,
   "metadata": {
    "collapsed": true
   },
   "outputs": [],
   "source": [
    "with open('BuildProcess.xml', 'r') as f:\n",
    "    txt = f.readlines()\n",
    "    txt = ''.join(txt)"
   ]
  },
  {
   "cell_type": "code",
   "execution_count": 21,
   "metadata": {
    "collapsed": false
   },
   "outputs": [],
   "source": [
    "# racine du fichier\n",
    "xbp = bs4.BeautifulSoup(txt, 'lxml')"
   ]
  },
  {
   "cell_type": "code",
   "execution_count": 22,
   "metadata": {
    "collapsed": false
   },
   "outputs": [],
   "source": [
    "phases = xbp.find_all('phase')"
   ]
  },
  {
   "cell_type": "code",
   "execution_count": 23,
   "metadata": {
    "collapsed": false
   },
   "outputs": [
    {
     "data": {
      "text/plain": [
       "<phase fastname=\"asna2392-3-04.178\" id=\"2\" info=\"Drill\" mode=\"crt\" type=\"position\"><point approx=\"fine\" cnt=\"100\" e1=\"700\" flip=\"true\" front=\"true\" id=\"1\" left=\"false\" p=\"-90\" r=\"0\" speed=\"100\" t4=\"0\" t5=\"0\" t6=\"0\" type=\"linear\" uf=\"1\" up=\"true\" ut=\"1\" w=\"90\" x=\"810.3\" y=\"1360\" z=\"-27.1\"></point></phase>"
      ]
     },
     "execution_count": 23,
     "metadata": {},
     "output_type": "execute_result"
    }
   ],
   "source": [
    "phases[1]"
   ]
  },
  {
   "cell_type": "code",
   "execution_count": 24,
   "metadata": {
    "collapsed": true
   },
   "outputs": [],
   "source": [
    "points = phases[1].find_all('point')"
   ]
  },
  {
   "cell_type": "code",
   "execution_count": 25,
   "metadata": {
    "collapsed": false
   },
   "outputs": [
    {
     "data": {
      "text/plain": [
       "<point approx=\"fine\" cnt=\"100\" e1=\"700\" flip=\"true\" front=\"true\" id=\"1\" left=\"false\" p=\"-90\" r=\"0\" speed=\"100\" t4=\"0\" t5=\"0\" t6=\"0\" type=\"linear\" uf=\"1\" up=\"true\" ut=\"1\" w=\"90\" x=\"810.3\" y=\"1360\" z=\"-27.1\"></point>"
      ]
     },
     "execution_count": 25,
     "metadata": {},
     "output_type": "execute_result"
    }
   ],
   "source": [
    "points[0]"
   ]
  },
  {
   "cell_type": "code",
   "execution_count": 26,
   "metadata": {
    "collapsed": false
   },
   "outputs": [],
   "source": [
    "def getPath(xml_path):\n",
    "    path = None\n",
    "    if xml_path ==\"linear\":\n",
    "        path = Path.LINEAR\n",
    "    elif xml_path == \"joint\":\n",
    "        path = Path.JOINT\n",
    "    else:\n",
    "        path = Path.CIRCULAR\n",
    "    return path\n",
    "\n",
    "\n",
    "#vecteur de position\n",
    "def getMovementFromXMLPhases(bsxml_phase):\n",
    "    \n",
    "    #get phase attributes\n",
    "    phat = bsxml_phase.attrs\n",
    "    \n",
    "    #get bs points \n",
    "    points = bsxml_phase.find_all('point')\n",
    "    \n",
    "    ps=[]\n",
    "    uf = points[0].attrs.get('uf')\n",
    "    ut = points[0].attrs.get('ut')\n",
    "    \n",
    "    for p in points:\n",
    "        ps.append(getPointFromXMLPoint(p, phat['mode']))\n",
    "\n",
    "    return Movement(uf, ut, ps)\n",
    "\n",
    "\n",
    "def getPointFromXMLPoint(point, pos_type):\n",
    "    \n",
    "    poat = point.attrs\n",
    "    path = getPath(poat['type'])\n",
    "    \n",
    "    cnt = poat.get('cnt')\n",
    "    speed = poat.get('speed')\n",
    "    \n",
    "    vector = np.array([\n",
    "            poat['x'],\n",
    "            poat['y'],\n",
    "            poat['z'],\n",
    "            poat['w'],\n",
    "            poat['p'],\n",
    "            poat['r']])\n",
    "\n",
    "    config = None\n",
    "    \n",
    "    if poat.get(\"front\") and poat.get(\"up\") and poat.get(\"left\") and poat.get(\"flip\"):\n",
    "        config = Configuration(Wrist.FLIP if bool(poat.get(\"flip\")) else Wrist.NOFLIP,\n",
    "                               ForeArm.UP if bool(poat.get(\"up\")) else ForeArm.DOWN,\n",
    "                               Arm.TOWARD if bool(poat.get(\"front\")) else Arm.BACKWARD\n",
    "                               )\n",
    "\n",
    "    e1 = poat.get('e1')\n",
    "\n",
    "    if pos_type ==\"joint\":\n",
    "        position = PositionJoint(vector, e1)\n",
    "    elif pos_type == 'crt':\n",
    "        position = PositionCrt(vector, e1, config)\n",
    "    else :\n",
    "        position = None\n",
    "    \n",
    "    return Point(cnt, speed, path, position)\n",
    "    \n",
    "\n",
    "def getActionFromXMLStation(bsxml_station):\n",
    "    \n",
    "    actions = []\n",
    "    phases = bsxml_station.find_all('phase')\n",
    "    \n",
    "    for p in phases:\n",
    "        mov = getMovementFromXMLPhases(p)\n",
    "        actions.append(Action(0, ActionType['MOVE'][''], mov, p.attrs['info'], [], [])) \n",
    "        #id, atype, definition, description, dependencies, anext\n",
    "        \n",
    "    return actions\n",
    "    "
   ]
  },
  {
   "cell_type": "code",
   "execution_count": 27,
   "metadata": {
    "collapsed": false
   },
   "outputs": [],
   "source": [
    "steps = xbp.find_all('step')\n",
    "stations = steps[0].find_all('station')\n",
    "\n",
    "la = getActionFromXMLStation(stations[0])"
   ]
  },
  {
   "cell_type": "markdown",
   "metadata": {
    "collapsed": false
   },
   "source": [
    "s = []\n",
    "for a in la:\n",
    "    s.append(Serializer.serialize(a))"
   ]
  },
  {
   "cell_type": "code",
   "execution_count": null,
   "metadata": {
    "collapsed": false
   },
   "outputs": [],
   "source": [
    "s =\"[\"+ \",\".join(s)+\"]\""
   ]
  },
  {
   "cell_type": "markdown",
   "metadata": {},
   "source": [
    "## CREATION DES ACTIONS POUR ENREGISTREMENT"
   ]
  },
  {
   "cell_type": "code",
   "execution_count": 25,
   "metadata": {
    "collapsed": true
   },
   "outputs": [],
   "source": [
    "import pandas"
   ]
  },
  {
   "cell_type": "markdown",
   "metadata": {},
   "source": [
    "### RAIL 1"
   ]
  },
  {
   "cell_type": "code",
   "execution_count": 26,
   "metadata": {
    "collapsed": true
   },
   "outputs": [],
   "source": [
    "df = pandas.read_csv('rail1_data.csv')"
   ]
  },
  {
   "cell_type": "code",
   "execution_count": 27,
   "metadata": {
    "collapsed": false
   },
   "outputs": [
    {
     "data": {
      "text/html": [
       "<div>\n",
       "<style scoped>\n",
       "    .dataframe tbody tr th:only-of-type {\n",
       "        vertical-align: middle;\n",
       "    }\n",
       "\n",
       "    .dataframe tbody tr th {\n",
       "        vertical-align: top;\n",
       "    }\n",
       "\n",
       "    .dataframe thead th {\n",
       "        text-align: right;\n",
       "    }\n",
       "</style>\n",
       "<table border=\"1\" class=\"dataframe\">\n",
       "  <thead>\n",
       "    <tr style=\"text-align: right;\">\n",
       "      <th></th>\n",
       "      <th>mvt</th>\n",
       "      <th>id</th>\n",
       "      <th>order</th>\n",
       "      <th>points</th>\n",
       "      <th>type</th>\n",
       "      <th>x_j1</th>\n",
       "      <th>y_j2</th>\n",
       "      <th>z_j3</th>\n",
       "      <th>w_j4</th>\n",
       "      <th>p_j5</th>\n",
       "      <th>r_j6</th>\n",
       "      <th>e1</th>\n",
       "      <th>wrist</th>\n",
       "      <th>forearm</th>\n",
       "      <th>arm</th>\n",
       "      <th>conf_j1</th>\n",
       "      <th>conf_j4</th>\n",
       "      <th>conf_j6</th>\n",
       "    </tr>\n",
       "  </thead>\n",
       "  <tbody>\n",
       "    <tr>\n",
       "      <th>0</th>\n",
       "      <td>home</td>\n",
       "      <td>NaN</td>\n",
       "      <td>NaN</td>\n",
       "      <td>home</td>\n",
       "      <td>JOINT</td>\n",
       "      <td>0.0</td>\n",
       "      <td>25.00</td>\n",
       "      <td>-30.0</td>\n",
       "      <td>0.00</td>\n",
       "      <td>113.00</td>\n",
       "      <td>0.00</td>\n",
       "      <td>0.0</td>\n",
       "      <td>NaN</td>\n",
       "      <td>NaN</td>\n",
       "      <td>NaN</td>\n",
       "      <td>NaN</td>\n",
       "      <td>NaN</td>\n",
       "      <td>NaN</td>\n",
       "    </tr>\n",
       "    <tr>\n",
       "      <th>1</th>\n",
       "      <td>station</td>\n",
       "      <td>NaN</td>\n",
       "      <td>NaN</td>\n",
       "      <td>station 1</td>\n",
       "      <td>JOINT</td>\n",
       "      <td>0.0</td>\n",
       "      <td>25.00</td>\n",
       "      <td>-30.0</td>\n",
       "      <td>0.00</td>\n",
       "      <td>113.00</td>\n",
       "      <td>0.00</td>\n",
       "      <td>-300.0</td>\n",
       "      <td>NaN</td>\n",
       "      <td>NaN</td>\n",
       "      <td>NaN</td>\n",
       "      <td>NaN</td>\n",
       "      <td>NaN</td>\n",
       "      <td>NaN</td>\n",
       "    </tr>\n",
       "    <tr>\n",
       "      <th>2</th>\n",
       "      <td>approach</td>\n",
       "      <td>NaN</td>\n",
       "      <td>NaN</td>\n",
       "      <td>12</td>\n",
       "      <td>JOINT</td>\n",
       "      <td>0.0</td>\n",
       "      <td>25.00</td>\n",
       "      <td>-30.0</td>\n",
       "      <td>0.00</td>\n",
       "      <td>113.00</td>\n",
       "      <td>0.00</td>\n",
       "      <td>-300.0</td>\n",
       "      <td>NaN</td>\n",
       "      <td>NaN</td>\n",
       "      <td>NaN</td>\n",
       "      <td>NaN</td>\n",
       "      <td>NaN</td>\n",
       "      <td>NaN</td>\n",
       "    </tr>\n",
       "    <tr>\n",
       "      <th>3</th>\n",
       "      <td>approach</td>\n",
       "      <td>NaN</td>\n",
       "      <td>NaN</td>\n",
       "      <td>13</td>\n",
       "      <td>JOINT</td>\n",
       "      <td>24.6</td>\n",
       "      <td>37.01</td>\n",
       "      <td>-12.6</td>\n",
       "      <td>-71.07</td>\n",
       "      <td>115.06</td>\n",
       "      <td>27.86</td>\n",
       "      <td>-300.0</td>\n",
       "      <td>NaN</td>\n",
       "      <td>NaN</td>\n",
       "      <td>NaN</td>\n",
       "      <td>NaN</td>\n",
       "      <td>NaN</td>\n",
       "      <td>NaN</td>\n",
       "    </tr>\n",
       "    <tr>\n",
       "      <th>4</th>\n",
       "      <td>approach</td>\n",
       "      <td>NaN</td>\n",
       "      <td>NaN</td>\n",
       "      <td>14</td>\n",
       "      <td>JOINT</td>\n",
       "      <td>24.6</td>\n",
       "      <td>37.01</td>\n",
       "      <td>-12.6</td>\n",
       "      <td>-71.07</td>\n",
       "      <td>115.06</td>\n",
       "      <td>-29.74</td>\n",
       "      <td>-300.0</td>\n",
       "      <td>NaN</td>\n",
       "      <td>NaN</td>\n",
       "      <td>NaN</td>\n",
       "      <td>NaN</td>\n",
       "      <td>NaN</td>\n",
       "      <td>NaN</td>\n",
       "    </tr>\n",
       "  </tbody>\n",
       "</table>\n",
       "</div>"
      ],
      "text/plain": [
       "        mvt   id  order     points   type  x_j1   y_j2  z_j3   w_j4    p_j5  \\\n",
       "0      home  NaN    NaN       home  JOINT   0.0  25.00 -30.0   0.00  113.00   \n",
       "1   station  NaN    NaN  station 1  JOINT   0.0  25.00 -30.0   0.00  113.00   \n",
       "2  approach  NaN    NaN         12  JOINT   0.0  25.00 -30.0   0.00  113.00   \n",
       "3  approach  NaN    NaN         13  JOINT  24.6  37.01 -12.6 -71.07  115.06   \n",
       "4  approach  NaN    NaN         14  JOINT  24.6  37.01 -12.6 -71.07  115.06   \n",
       "\n",
       "    r_j6     e1 wrist forearm  arm  conf_j1  conf_j4  conf_j6  \n",
       "0   0.00    0.0   NaN     NaN  NaN      NaN      NaN      NaN  \n",
       "1   0.00 -300.0   NaN     NaN  NaN      NaN      NaN      NaN  \n",
       "2   0.00 -300.0   NaN     NaN  NaN      NaN      NaN      NaN  \n",
       "3  27.86 -300.0   NaN     NaN  NaN      NaN      NaN      NaN  \n",
       "4 -29.74 -300.0   NaN     NaN  NaN      NaN      NaN      NaN  "
      ]
     },
     "execution_count": 27,
     "metadata": {},
     "output_type": "execute_result"
    }
   ],
   "source": [
    "df.head()"
   ]
  },
  {
   "cell_type": "code",
   "execution_count": 28,
   "metadata": {
    "collapsed": false
   },
   "outputs": [],
   "source": [
    "def get_position(data):\n",
    "    vector = np.array([data.x_j1, data.y_j2, data.z_j3, data.w_j4, data.p_j5, data.r_j6])\n",
    "    if(data.type == 'JOINT'):\n",
    "        return PositionJoint(vector, data.e1)\n",
    "    else:\n",
    "        wrist = Wrist.FLIP if data.wrist == 'F' else Wrist.NOFLIP\n",
    "        forearm = ForeArm.UP if data.forearm == 'U' else ForeArm.DOWN\n",
    "        arm = Arm.TOWARD if data.arm == 'T' else Arm.BACKWARD\n",
    "        \n",
    "        config = Configuration(wrist, forearm, arm)\n",
    "        return PositionCrt(vector, data.e1, config)\n",
    "\n",
    "    \n",
    "def getMovementFromDf(df_data):\n",
    "    points = []\n",
    "    for i, d in df_data.iterrows():\n",
    "        position = get_position(d)\n",
    "        if d.type == 'JOINT':\n",
    "            path = Path.JOINT\n",
    "        elif d.type == 'CARTESIAN':\n",
    "            path = Path.LINEAR\n",
    "        else:\n",
    "            path =Path.CIRCULAR\n",
    "        \n",
    "        points.append(Point(100, 100, path, position))\n",
    "    return Movement(ut=1, uf=1, points=points)\n",
    "\n",
    "\n",
    "#Action(1, ActionType['MOVE']['ARM']['WORK'], work_1_mvt, \"move to point 1\", [], [])\n",
    "#Point(100,100,Path['LINEAR'], PositionCrt(np.array([0.0,25.0,40.0,113.0,-307]), e1=-300.0, config=work1_config))"
   ]
  },
  {
   "cell_type": "markdown",
   "metadata": {},
   "source": [
    "#### APPROCHE"
   ]
  },
  {
   "cell_type": "code",
   "execution_count": 33,
   "metadata": {
    "collapsed": false
   },
   "outputs": [],
   "source": [
    "app_mvt_df = df[df.mvt == 'approach']\n",
    "app_mvt_df = app_mvt_df.dropna(axis=1)\n",
    "app_mvt_df.index = app_mvt_df.points\n",
    "app_mvt_df = app_mvt_df.drop(['points','mvt'], axis=1)"
   ]
  },
  {
   "cell_type": "code",
   "execution_count": 34,
   "metadata": {
    "collapsed": false
   },
   "outputs": [
    {
     "data": {
      "text/html": [
       "<div>\n",
       "<style scoped>\n",
       "    .dataframe tbody tr th:only-of-type {\n",
       "        vertical-align: middle;\n",
       "    }\n",
       "\n",
       "    .dataframe tbody tr th {\n",
       "        vertical-align: top;\n",
       "    }\n",
       "\n",
       "    .dataframe thead th {\n",
       "        text-align: right;\n",
       "    }\n",
       "</style>\n",
       "<table border=\"1\" class=\"dataframe\">\n",
       "  <thead>\n",
       "    <tr style=\"text-align: right;\">\n",
       "      <th></th>\n",
       "      <th>type</th>\n",
       "      <th>x_j1</th>\n",
       "      <th>y_j2</th>\n",
       "      <th>z_j3</th>\n",
       "      <th>w_j4</th>\n",
       "      <th>p_j5</th>\n",
       "      <th>r_j6</th>\n",
       "      <th>e1</th>\n",
       "    </tr>\n",
       "    <tr>\n",
       "      <th>points</th>\n",
       "      <th></th>\n",
       "      <th></th>\n",
       "      <th></th>\n",
       "      <th></th>\n",
       "      <th></th>\n",
       "      <th></th>\n",
       "      <th></th>\n",
       "      <th></th>\n",
       "    </tr>\n",
       "  </thead>\n",
       "  <tbody>\n",
       "    <tr>\n",
       "      <th>12</th>\n",
       "      <td>JOINT</td>\n",
       "      <td>0.00</td>\n",
       "      <td>25.00</td>\n",
       "      <td>-30.00</td>\n",
       "      <td>0.00</td>\n",
       "      <td>113.00</td>\n",
       "      <td>0.00</td>\n",
       "      <td>-300.0</td>\n",
       "    </tr>\n",
       "    <tr>\n",
       "      <th>13</th>\n",
       "      <td>JOINT</td>\n",
       "      <td>24.60</td>\n",
       "      <td>37.01</td>\n",
       "      <td>-12.60</td>\n",
       "      <td>-71.07</td>\n",
       "      <td>115.06</td>\n",
       "      <td>27.86</td>\n",
       "      <td>-300.0</td>\n",
       "    </tr>\n",
       "    <tr>\n",
       "      <th>14</th>\n",
       "      <td>JOINT</td>\n",
       "      <td>24.60</td>\n",
       "      <td>37.01</td>\n",
       "      <td>-12.60</td>\n",
       "      <td>-71.07</td>\n",
       "      <td>115.06</td>\n",
       "      <td>-29.74</td>\n",
       "      <td>-300.0</td>\n",
       "    </tr>\n",
       "    <tr>\n",
       "      <th>15</th>\n",
       "      <td>JOINT</td>\n",
       "      <td>30.79</td>\n",
       "      <td>40.03</td>\n",
       "      <td>-5.71</td>\n",
       "      <td>-88.94</td>\n",
       "      <td>115.58</td>\n",
       "      <td>-13.89</td>\n",
       "      <td>-300.0</td>\n",
       "    </tr>\n",
       "    <tr>\n",
       "      <th>16</th>\n",
       "      <td>JOINT</td>\n",
       "      <td>41.35</td>\n",
       "      <td>45.74</td>\n",
       "      <td>7.34</td>\n",
       "      <td>-80.60</td>\n",
       "      <td>125.00</td>\n",
       "      <td>51.18</td>\n",
       "      <td>-300.0</td>\n",
       "    </tr>\n",
       "  </tbody>\n",
       "</table>\n",
       "</div>"
      ],
      "text/plain": [
       "         type   x_j1   y_j2   z_j3   w_j4    p_j5   r_j6     e1\n",
       "points                                                         \n",
       "12      JOINT   0.00  25.00 -30.00   0.00  113.00   0.00 -300.0\n",
       "13      JOINT  24.60  37.01 -12.60 -71.07  115.06  27.86 -300.0\n",
       "14      JOINT  24.60  37.01 -12.60 -71.07  115.06 -29.74 -300.0\n",
       "15      JOINT  30.79  40.03  -5.71 -88.94  115.58 -13.89 -300.0\n",
       "16      JOINT  41.35  45.74   7.34 -80.60  125.00  51.18 -300.0"
      ]
     },
     "execution_count": 34,
     "metadata": {},
     "output_type": "execute_result"
    }
   ],
   "source": [
    "app_mvt.head()"
   ]
  },
  {
   "cell_type": "code",
   "execution_count": 57,
   "metadata": {
    "collapsed": false
   },
   "outputs": [
    {
     "data": {
      "text/plain": [
       "{\"id\": 1, \"type\": [50, \"MOVE.ARM.APPROACH\"], \"definition\": {\"uf\": 1, \"ut\": 1, \"points\": [{\"cnt\": 100, \"speed\": 100, \"position\": {\"vector\": {\"j1\": 0.0, \"j2\": 25.0, \"j3\": -30.0, \"j4\": 0.0, \"j5\": 113.0, \"j6\": 0.0}, \"type\": \"jnt\", \"config\": null, \"e1\": -300.0}, \"path\": \"J\"}, {\"cnt\": 100, \"speed\": 100, \"position\": {\"vector\": {\"j1\": 24.6, \"j2\": 37.01, \"j3\": -12.6, \"j4\": -71.07, \"j5\": 115.06, \"j6\": 27.86}, \"type\": \"jnt\", \"config\": null, \"e1\": -300.0}, \"path\": \"J\"}, {\"cnt\": 100, \"speed\": 100, \"position\": {\"vector\": {\"j1\": 24.6, \"j2\": 37.01, \"j3\": -12.6, \"j4\": -71.07, \"j5\": 115.06, \"j6\": -29.74}, \"type\": \"jnt\", \"config\": null, \"e1\": -300.0}, \"path\": \"J\"}, {\"cnt\": 100, \"speed\": 100, \"position\": {\"vector\": {\"j1\": 30.79, \"j2\": 40.03, \"j3\": -5.71, \"j4\": -88.94, \"j5\": 115.58, \"j6\": -13.89}, \"type\": \"jnt\", \"config\": null, \"e1\": -300.0}, \"path\": \"J\"}, {\"cnt\": 100, \"speed\": 100, \"position\": {\"vector\": {\"j1\": 41.35, \"j2\": 45.74, \"j3\": 7.34, \"j4\": -80.6, \"j5\": 125.0, \"j6\": 51.18}, \"type\": \"jnt\", \"config\": null, \"e1\": -300.0}, \"path\": \"J\"}, {\"cnt\": 100, \"speed\": 100, \"position\": {\"vector\": {\"j1\": 45.13, \"j2\": 42.93, \"j3\": 18.94, \"j4\": -121.71, \"j5\": 112.68, \"j6\": 53.4}, \"type\": \"jnt\", \"config\": null, \"e1\": -300.0}, \"path\": \"J\"}, {\"cnt\": 100, \"speed\": 100, \"position\": {\"vector\": {\"j1\": 44.99, \"j2\": 46.97, \"j3\": 10.11, \"j4\": -129.98, \"j5\": 116.76, \"j6\": 50.96}, \"type\": \"jnt\", \"config\": null, \"e1\": -300.0}, \"path\": \"J\"}, {\"cnt\": 100, \"speed\": 100, \"position\": {\"vector\": {\"j1\": 43.22, \"j2\": 49.37, \"j3\": 1.06, \"j4\": -129.16, \"j5\": 106.21, \"j6\": 41.02}, \"type\": \"jnt\", \"config\": null, \"e1\": -300.0}, \"path\": \"J\"}]}, \"dependencies\": [], \"next\": [], \"description\": \"approach movement for rail 1 web fasteners\"}"
      ]
     },
     "execution_count": 57,
     "metadata": {},
     "output_type": "execute_result"
    }
   ],
   "source": [
    "app_mov = getMovementFromDf(app_mvt_df)\n",
    "app_action = Action(1, ActionType['MOVE.ARM.APPROACH'], app_mov, 'approach movement for rail 1 web fasteners', [], [])\n",
    "app_action"
   ]
  },
  {
   "cell_type": "markdown",
   "metadata": {},
   "source": [
    "#### CLEARANCE"
   ]
  },
  {
   "cell_type": "code",
   "execution_count": 38,
   "metadata": {
    "collapsed": false
   },
   "outputs": [
    {
     "data": {
      "text/html": [
       "<div>\n",
       "<style scoped>\n",
       "    .dataframe tbody tr th:only-of-type {\n",
       "        vertical-align: middle;\n",
       "    }\n",
       "\n",
       "    .dataframe tbody tr th {\n",
       "        vertical-align: top;\n",
       "    }\n",
       "\n",
       "    .dataframe thead th {\n",
       "        text-align: right;\n",
       "    }\n",
       "</style>\n",
       "<table border=\"1\" class=\"dataframe\">\n",
       "  <thead>\n",
       "    <tr style=\"text-align: right;\">\n",
       "      <th></th>\n",
       "      <th>type</th>\n",
       "      <th>x_j1</th>\n",
       "      <th>y_j2</th>\n",
       "      <th>z_j3</th>\n",
       "      <th>w_j4</th>\n",
       "      <th>p_j5</th>\n",
       "      <th>r_j6</th>\n",
       "      <th>e1</th>\n",
       "    </tr>\n",
       "    <tr>\n",
       "      <th>points</th>\n",
       "      <th></th>\n",
       "      <th></th>\n",
       "      <th></th>\n",
       "      <th></th>\n",
       "      <th></th>\n",
       "      <th></th>\n",
       "      <th></th>\n",
       "      <th></th>\n",
       "    </tr>\n",
       "  </thead>\n",
       "  <tbody>\n",
       "    <tr>\n",
       "      <th>10</th>\n",
       "      <td>JOINT</td>\n",
       "      <td>43.22</td>\n",
       "      <td>49.37</td>\n",
       "      <td>1.06</td>\n",
       "      <td>-129.16</td>\n",
       "      <td>106.21</td>\n",
       "      <td>41.02</td>\n",
       "      <td>-300.0</td>\n",
       "    </tr>\n",
       "    <tr>\n",
       "      <th>11</th>\n",
       "      <td>JOINT</td>\n",
       "      <td>44.99</td>\n",
       "      <td>46.97</td>\n",
       "      <td>10.11</td>\n",
       "      <td>-129.98</td>\n",
       "      <td>116.76</td>\n",
       "      <td>50.96</td>\n",
       "      <td>-300.0</td>\n",
       "    </tr>\n",
       "    <tr>\n",
       "      <th>17</th>\n",
       "      <td>JOINT</td>\n",
       "      <td>45.13</td>\n",
       "      <td>42.93</td>\n",
       "      <td>18.94</td>\n",
       "      <td>-121.71</td>\n",
       "      <td>112.68</td>\n",
       "      <td>53.40</td>\n",
       "      <td>-300.0</td>\n",
       "    </tr>\n",
       "    <tr>\n",
       "      <th>16</th>\n",
       "      <td>JOINT</td>\n",
       "      <td>41.35</td>\n",
       "      <td>45.74</td>\n",
       "      <td>7.34</td>\n",
       "      <td>-80.60</td>\n",
       "      <td>125.00</td>\n",
       "      <td>51.18</td>\n",
       "      <td>-300.0</td>\n",
       "    </tr>\n",
       "    <tr>\n",
       "      <th>15</th>\n",
       "      <td>JOINT</td>\n",
       "      <td>30.79</td>\n",
       "      <td>40.03</td>\n",
       "      <td>-5.71</td>\n",
       "      <td>-88.94</td>\n",
       "      <td>115.58</td>\n",
       "      <td>-13.89</td>\n",
       "      <td>-300.0</td>\n",
       "    </tr>\n",
       "  </tbody>\n",
       "</table>\n",
       "</div>"
      ],
      "text/plain": [
       "         type   x_j1   y_j2   z_j3    w_j4    p_j5   r_j6     e1\n",
       "points                                                          \n",
       "10      JOINT  43.22  49.37   1.06 -129.16  106.21  41.02 -300.0\n",
       "11      JOINT  44.99  46.97  10.11 -129.98  116.76  50.96 -300.0\n",
       "17      JOINT  45.13  42.93  18.94 -121.71  112.68  53.40 -300.0\n",
       "16      JOINT  41.35  45.74   7.34  -80.60  125.00  51.18 -300.0\n",
       "15      JOINT  30.79  40.03  -5.71  -88.94  115.58 -13.89 -300.0"
      ]
     },
     "execution_count": 38,
     "metadata": {},
     "output_type": "execute_result"
    }
   ],
   "source": [
    "clear_mvt_df = df[df.mvt == 'clearance']\n",
    "clear_mvt_df = clear_mvt_df.dropna(axis=1)\n",
    "clear_mvt_df.index = clear_mvt_df.points\n",
    "clear_mvt_df = clear_mvt_df.drop(['points','mvt'], axis=1)\n",
    "clear_mvt_df.head()"
   ]
  },
  {
   "cell_type": "code",
   "execution_count": 53,
   "metadata": {
    "collapsed": false
   },
   "outputs": [],
   "source": [
    "clear_mvt = getMovementFromDf(clear_mvt_df)\n",
    "clear_action = Action(2, ActionType['MOVE.ARM.CLEARANCE'], clear_mvt, 'clearance movement for rail 1 web fasteners', [], [])"
   ]
  },
  {
   "cell_type": "code",
   "execution_count": 56,
   "metadata": {
    "collapsed": false
   },
   "outputs": [
    {
     "data": {
      "text/plain": [
       "{\"id\": 2, \"type\": [50, \"MOVE.ARM.CLEARANCE\"], \"definition\": {\"uf\": 1, \"ut\": 1, \"points\": [{\"cnt\": 100, \"speed\": 100, \"position\": {\"vector\": {\"j1\": 43.22, \"j2\": 49.37, \"j3\": 1.06, \"j4\": -129.16, \"j5\": 106.21, \"j6\": 41.02}, \"type\": \"jnt\", \"config\": null, \"e1\": -300.0}, \"path\": \"J\"}, {\"cnt\": 100, \"speed\": 100, \"position\": {\"vector\": {\"j1\": 44.99, \"j2\": 46.97, \"j3\": 10.11, \"j4\": -129.98, \"j5\": 116.76, \"j6\": 50.96}, \"type\": \"jnt\", \"config\": null, \"e1\": -300.0}, \"path\": \"J\"}, {\"cnt\": 100, \"speed\": 100, \"position\": {\"vector\": {\"j1\": 45.13, \"j2\": 42.93, \"j3\": 18.94, \"j4\": -121.71, \"j5\": 112.68, \"j6\": 53.4}, \"type\": \"jnt\", \"config\": null, \"e1\": -300.0}, \"path\": \"J\"}, {\"cnt\": 100, \"speed\": 100, \"position\": {\"vector\": {\"j1\": 41.35, \"j2\": 45.74, \"j3\": 7.34, \"j4\": -80.6, \"j5\": 125.0, \"j6\": 51.18}, \"type\": \"jnt\", \"config\": null, \"e1\": -300.0}, \"path\": \"J\"}, {\"cnt\": 100, \"speed\": 100, \"position\": {\"vector\": {\"j1\": 30.79, \"j2\": 40.03, \"j3\": -5.71, \"j4\": -88.94, \"j5\": 115.58, \"j6\": -13.89}, \"type\": \"jnt\", \"config\": null, \"e1\": -300.0}, \"path\": \"J\"}, {\"cnt\": 100, \"speed\": 100, \"position\": {\"vector\": {\"j1\": 24.6, \"j2\": 37.01, \"j3\": -12.6, \"j4\": -71.07, \"j5\": 115.06, \"j6\": -29.74}, \"type\": \"jnt\", \"config\": null, \"e1\": -300.0}, \"path\": \"J\"}, {\"cnt\": 100, \"speed\": 100, \"position\": {\"vector\": {\"j1\": 24.6, \"j2\": 37.01, \"j3\": -12.6, \"j4\": -71.07, \"j5\": 115.06, \"j6\": 27.86}, \"type\": \"jnt\", \"config\": null, \"e1\": -300.0}, \"path\": \"J\"}, {\"cnt\": 100, \"speed\": 100, \"position\": {\"vector\": {\"j1\": 0.0, \"j2\": 25.0, \"j3\": -30.0, \"j4\": 0.0, \"j5\": 113.0, \"j6\": 0.0}, \"type\": \"jnt\", \"config\": null, \"e1\": -300.0}, \"path\": \"J\"}]}, \"dependencies\": [], \"next\": [], \"description\": \"clearance movement for rail 1 web fasteners\"}"
      ]
     },
     "execution_count": 56,
     "metadata": {},
     "output_type": "execute_result"
    }
   ],
   "source": [
    "clear_action"
   ]
  },
  {
   "cell_type": "code",
   "execution_count": null,
   "metadata": {
    "collapsed": true
   },
   "outputs": [],
   "source": []
  }
 ],
 "metadata": {
  "kernelspec": {
   "display_name": "Robotic Mars env",
   "language": "python",
   "name": "mars"
  },
  "language_info": {
   "codemirror_mode": {
    "name": "ipython",
    "version": 3
   },
   "file_extension": ".py",
   "mimetype": "text/x-python",
   "name": "python",
   "nbconvert_exporter": "python",
   "pygments_lexer": "ipython3",
   "version": "3.6.2"
  }
 },
 "nbformat": 4,
 "nbformat_minor": 2
}
