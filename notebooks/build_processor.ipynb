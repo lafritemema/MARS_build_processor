{
 "cells": [
  {
   "cell_type": "code",
   "execution_count": 4,
   "metadata": {
    "collapsed": false
   },
   "outputs": [],
   "source": [
    "import bs4\n",
    "import json\n",
    "from enum import Enum, EnumMeta\n",
    "import numpy as np\n",
    "import pprint"
   ]
  },
  {
   "source": [
    "# BUILD PROCESSOR DEV NOTEBOOK"
   ],
   "cell_type": "markdown",
   "metadata": {}
  },
  {
   "source": [
    "## INTRODUCTION\n",
    "\n",
    "L'algorithme de build processor construit le build process.  \n",
    "Le build process contient la liste des actions basiques (movement, changement station ...) envoyées au robot pour effectuer l'opération demandée.  \n",
    "Ces actions sont définies par les roboticiens et seront (à terme) stoquées dans une base de données.\n",
    "\n",
    "La construction automatique du build process repose sur un système de dépendancies et de next \n",
    "Pour chaque action stoquées dans la base, le roboticiens définies des actions qui devront être réalisées avant l'action ciblée (les dépendancies) et celles qui devront être réalisées après (les next).\n",
    "\n",
    "Exemple :  \n",
    "Pour le perçages du fasteners `en6115v2-3.305`, l'action robot associée est une action de type WORK.DRILLING avec l'id 1234. \n",
    "\n",
    "Avant d'effectuer le perçage, le robot dois effectuer un déplacement sur le point a percer : cette action est une dependance de l'action de perçage.  \n",
    "\n",
    "Avant de me déplacement sur le point, le robot doit effectuer une phase d'approche sur le rail ciblé : cette action est une dependance de l'action de déplacement ...  \n",
    "\n",
    "Après l'actioin de perçage, un contrôle est éventuellement nécessaire : cette action est un next de l'action de perçage.  \n",
    "...\n",
    "\n",
    "![dependencies](./media/dependencies_next.png)\n",
    "\n",
    "Donc pour une action donnée, le build processor identifie l'action robot associée, liste les actions dependantes et resultantes (dependencies et next) et construit un arbre d'action représentant le build process."
   ],
   "cell_type": "markdown",
   "metadata": {}
  },
  {
   "cell_type": "markdown",
   "metadata": {},
   "source": [
    "## DEFINITION D'UNE ACTION\n",
    "\n",
    "L'action est une operation basique effectué par le robot\n",
    "Elle est definie par les parametres suivants :\n",
    "* un id unique\n",
    "* le type de l'action (mouvement d'approche, changement de station ...)\n",
    "* sa definition (un objet qui décris l'action en fonction de son type)\n",
    "* ses dépendences (la liste des actions à réaliser avant)\n",
    "* ses next (la liste des actions à réaliser après)\n",
    "* une description (lisible par un humain)\n",
    "\n"
   ]
  },
  {
   "cell_type": "code",
   "execution_count": 6,
   "metadata": {},
   "outputs": [],
   "source": [
    "class Action:\n",
    "    def __init__(self, id, atype, definition, description, dependencies, anext):\n",
    "        self._id = id\n",
    "        self._type = atype\n",
    "        self._definition = definition\n",
    "        self._dependencies = dependencies\n",
    "        self._next = anext\n",
    "        self._description = description\n",
    "        \n",
    "    def __repr__(self):\n",
    "        return Serializer.serialize(self)"
   ]
  },
  {
   "source": [
    "### LE TYPE\n",
    "\n",
    "Le type de l'action a 2 fonctions :\n",
    "* déclarer le type de l'action\n",
    "* définir la priorité de l'action (son niveau dans l'arbre de process)\n",
    "\n",
    "J'ai défini les types sous la forme d'enumeration à plusieurs niveaux respectant le format : `TYPE.ELEMENT.MODE`.  \n",
    "J'associe à chaque type :\n",
    "* un parametre de priorité, qui donne à l'action sa position dans l'arbre de process\n",
    "* un nom\n",
    "\n",
    "Ex : Mouvement du bras en approche :\n",
    "* Enumeration => MOVE.ARM.APPROACH\n",
    "* Priorité => 50\n",
    "* Nom : \"MOVE.ARM.APPROACH\""
   ],
   "cell_type": "markdown",
   "metadata": {}
  },
  {
   "source": [
    "Pour gérer le routage vers les sous niveau et les paramêtres de priorité je définis 2 interfaces héritant de EnumMeta qui implémente les fonctions dont j'ai besoin."
   ],
   "cell_type": "markdown",
   "metadata": {}
  },
  {
   "cell_type": "code",
   "execution_count": 7,
   "metadata": {},
   "outputs": [],
   "source": [
    "class EnumLevelInterface(EnumMeta):\n",
    "    \"\"\"\n",
    "    Interface pour prendre un charge l'enumeration à plusieurs niveau\n",
    "    \"\"\"\n",
    "    def __getitem__(self, name):\n",
    "        # surcharge de la function __getitem__ pour gerer l enumeration a plusieurs niveaux\n",
    "        dot = name.find('.')\n",
    "        if dot!=-1:\n",
    "            cindex = name[:dot]\n",
    "            oindex = name[(dot+1):]\n",
    "            e = super().__getitem__(cindex).value\n",
    "            return e.__getitem__(oindex)\n",
    "        else:\n",
    "            e = super().__getitem__(name)\n",
    "            if EnumPriorityInterface in e.__class__.__bases__:\n",
    "                return e\n",
    "            else:\n",
    "                return e.value\n",
    "    \n",
    "class EnumPriorityInterface(Enum, metaclass=EnumLevelInterface):\n",
    "    \"\"\"\n",
    "    Interface de definition de l'objet Type\n",
    "    \"\"\"    \n",
    "    def __init__(self, priority, name):\n",
    "        # creation de l instance\n",
    "        self._priority = priority\n",
    "        self._name = name \n",
    "\n",
    "    @property\n",
    "    def priority(self):\n",
    "        # getter priority\n",
    "        return self._priority\n",
    "    @property\n",
    "    def name(self):\n",
    "        # getter  name\n",
    "        return self._name"
   ]
  },
  {
   "source": [
    "\n",
    "#### DEFINITION DES ENUMERATION TYPES\n",
    "\n",
    "TYPE MOVE ARM"
   ],
   "cell_type": "markdown",
   "metadata": {}
  },
  {
   "cell_type": "code",
   "execution_count": 8,
   "metadata": {},
   "outputs": [],
   "source": [
    "class ActionArmMove(EnumPriorityInterface, metaclass=EnumLevelInterface):\n",
    "    # enumeration MOVE.ARM avec 3 modes : APPROACH CLEARANCE WORK\n",
    "    APPROACH = (50, 'MOVE.ARM.APPROACH')\n",
    "    CLEARANCE = (50, 'MOVE.ARM.CLEARANCE')\n",
    "    WORK = (60, 'MOVE.ARM.WORK')"
   ]
  },
  {
   "source": [
    "TYPE MOVE STATION"
   ],
   "cell_type": "markdown",
   "metadata": {}
  },
  {
   "cell_type": "code",
   "execution_count": 9,
   "metadata": {},
   "outputs": [],
   "source": [
    "class ActionStationMove(EnumPriorityInterface, metaclass=EnumLevelInterface):\n",
    "    # enumeration MOVE.STATION avec 2 modes : WORK HOME\n",
    "    WORK = (40, 'MOVE.STATION.WORK')\n",
    "    HOME = (10, 'MOVE.STATION.HOME')"
   ]
  },
  {
   "source": [
    "TYPE WORK"
   ],
   "cell_type": "markdown",
   "metadata": {}
  },
  {
   "cell_type": "code",
   "execution_count": 10,
   "metadata": {},
   "outputs": [],
   "source": [
    "class ActionWork(EnumPriorityInterface, metaclass=EnumLevelInterface):\n",
    "    # enumeration WORK avec 2 modes : DRILL FASTEN\n",
    "    DRILL=(70, 'WORK.DRILL')\n",
    "    FASTEN=(80, 'WORK.FASTEN')"
   ]
  },
  {
   "source": [
    "TYPE LOAD/UNLOAD"
   ],
   "cell_type": "markdown",
   "metadata": {}
  },
  {
   "cell_type": "code",
   "execution_count": 11,
   "metadata": {},
   "outputs": [],
   "source": [
    "class ActionLoad(EnumPriorityInterface, metaclass=EnumLevelInterface):\n",
    "    # enumeration LOAD avec 2 elements EFFECTOR TOOL \n",
    "    EFFECTOR=(20, 'LOAD.EFFECTOR')\n",
    "    TOOL=(30, 'LOAD.TOOL')\n",
    "\n",
    "class ActionUnload(EnumPriorityInterface, metaclass=EnumLevelInterface):\n",
    "    EFFECTOR=(20, 'UNLOAD.EFFECTOR')\n",
    "    TOOL=(30, 'UNLOAD.TOOL')\n"
   ]
  },
  {
   "source": [
    "#### DEFINITION DES ENUMERATION INTERMEDIAIRE"
   ],
   "cell_type": "markdown",
   "metadata": {}
  },
  {
   "cell_type": "code",
   "execution_count": 12,
   "metadata": {},
   "outputs": [],
   "source": [
    "class ActionMove(Enum, metaclass=EnumLevelInterface):\n",
    "    # sous enumeration MOVE avec 2 element ARM et station\n",
    "    ARM = ActionArmMove\n",
    "    STATION = ActionStationMove\n",
    "    \n",
    "class ActionType(Enum, metaclass=EnumLevelInterface):\n",
    "    # enumeration racine avec 3 action LOAD UNLOAD MOVE WORK\n",
    "    LOAD = ActionLoad \n",
    "    UNLOAD = ActionUnload\n",
    "    MOVE = ActionMove\n",
    "    WORK = ActionWork"
   ]
  },
  {
   "source": [
    "### LA DEFINITION\n",
    "\n",
    "On intègre dans l'attribut definition un objet decrivant l'action en fonction de son type.  \n",
    "Ex : pour un objet de type MOVE.ARM.APPROACH on intègre un objet Movement décrivant le mouvement d'approche."
   ],
   "cell_type": "markdown",
   "metadata": {}
  },
  {
   "source": [
    "#### OBJET MOVEMENT\n",
    "\n",
    "L'objet Movement décris un mouvement effectué par le bras robot ou la station.  \n",
    "Il est défini par les paramêtres suivants :\n",
    "* uf : l'id de la reference userframe robot\n",
    "* ut : l'id de la reference usertool robot\n",
    "* points : la liste des points de passage qui décrivent le mouvement.\n"
   ],
   "cell_type": "markdown",
   "metadata": {}
  },
  {
   "cell_type": "code",
   "execution_count": 13,
   "metadata": {},
   "outputs": [],
   "source": [
    "class Movement:\n",
    "    def __init__(self, uf, ut, points):\n",
    "        self._uf = uf\n",
    "        self._ut = ut\n",
    "        self._points = points"
   ]
  },
  {
   "source": [
    "#### OBJET POINT\n",
    "\n",
    "L'objet Point représente un point de passage du mouvement.  \n",
    "Il est défini par les paramêtres suivants :\n",
    "* cnt : la precision de la trajectoire par rapport au point\n",
    "* speed : la vitesse du bras (en %)\n",
    "* position : objet position représentant les coordonnees du point (ou la position du bras) et les parametres du bras.\n",
    "* path : object path représentant le type de trajectoire pour atteindre le point\n"
   ],
   "cell_type": "markdown",
   "metadata": {}
  },
  {
   "cell_type": "code",
   "execution_count": 14,
   "metadata": {},
   "outputs": [],
   "source": [
    "class Point:\n",
    "    def __init__(self, cnt, speed, path, position):\n",
    "        self._cnt = cnt\n",
    "        self._speed = speed\n",
    "        self._position = position\n",
    "        self._path = path"
   ]
  },
  {
   "source": [
    "#### OBJET PATH\n",
    "\n",
    "L'objet path represente le type de trajectoire pour atteindre le point.  \n",
    "3 type sont possible :\n",
    "* CIRCULAR\n",
    "* LINEAR\n",
    "* JOINT\n",
    "\n",
    "Je definit mon objet Path sous la forme d'une enumeration avec en cle les 3 types sous le format \"human readable\" et l'instruction du programme fanuc en valeur.\n"
   ],
   "cell_type": "markdown",
   "metadata": {}
  },
  {
   "cell_type": "code",
   "execution_count": 15,
   "metadata": {},
   "outputs": [],
   "source": [
    "class Path(Enum):\n",
    "    CIRCULAR='C'\n",
    "    LINEAR='L'\n",
    "    JOINT='J'"
   ]
  },
  {
   "source": [
    "#### LES OBJETS POSITION\n",
    "\n",
    "L'objet Position représente la position du bras.  \n",
    "2 types de représentations sont possibles :\n",
    "* type JOINT : position du bras par les angles de chaque moteur (j1,j2,j3,j4,j5,j6)\n",
    "* type CARTESIAN : position du bras par les coordonnées et orientation du Tool Frame. (x,y,z,w,p,r)\n",
    "\n",
    "L'objet Position est défini par les paramêtres suivants :\n",
    "* vector : le vecteur représentant la position\n",
    "* type : type de position => JOINT ou CARTESIAN\n",
    "* config : pour le type CARTESIAN, un objet représentant la configuration du bras (null pour JOINT)\n",
    "* e1 : la position de la station sur le 7° axe\n",
    "\n",
    "Je decline cette classe Position en 2 sous classes :\n",
    "* PositionCrt : Position du bras de type CARTESIAN\n",
    "* PositionJoint : Position du bras de type JOINT\n",
    "\n",
    "Je défini le type de position sous la forme d'une enumeration avec en cle les 2 types sous le format \"human readable\" et l'instruction du programme fanuc en valeur."
   ],
   "cell_type": "markdown",
   "metadata": {}
  },
  {
   "cell_type": "code",
   "execution_count": 16,
   "metadata": {
    "collapsed": false
   },
   "outputs": [],
   "source": [
    "\n",
    "class PositionType(Enum):\n",
    "    JOINT='jnt'\n",
    "    CARTESIAN='crt'\n",
    "\n",
    "class Position:\n",
    "    def __init__(self, pvector, ptype, e1, config):\n",
    "        self._vector = pvector\n",
    "        self._type = ptype\n",
    "        self._config = config\n",
    "        self._e1 = e1\n",
    "\n",
    "class PositionCrt(Position):\n",
    "    def __init__(self, pvector, e1, config):\n",
    "        super(PositionCrt, self).__init__(pvector, PositionType.CARTESIAN, e1, config)\n",
    "    \n",
    "    def to_dict(self):\n",
    "        keys = ['x', 'y','z', 'w', 'p', 'r']\n",
    "        tl = [(keys[i], float(val)) for i, val in enumerate(self._vector.tolist())]\n",
    "        crt_dict = self.__dict__.copy()\n",
    "        crt_dict['_vector'] = dict(tl)\n",
    "        return crt_dict\n",
    "    \n",
    "    def get(self):\n",
    "        keys = ['x', 'y','z', 'w', 'p', 'r']\n",
    "        tl = [(keys[i], float(val)) for i, val in enumerate(self._vector.tolist())]\n",
    "        return {'vector':dict(tl), 'type':self._type.value, 'config':Serializer.to_dict(self._config), 'e1':float(self._e1)}\n",
    "            \n",
    "class PositionJoint(Position):\n",
    "    def __init__(self, pvector, e1):\n",
    "        super(PositionJoint, self).__init__(pvector, PositionType.JOINT, e1, None)\n",
    "    \n",
    "    def to_dict(self):\n",
    "        keys = ['j1', 'j2','j3', 'j4', 'j5', 'j6']\n",
    "        tl = [(keys[i], float(val)) for i, val in enumerate(self._vector.tolist())]\n",
    "        jnt_dict = self.__dict__.copy()\n",
    "        jnt_dict['_vector'] = dict(tl)\n",
    "        return jnt_dict\n",
    "      "
   ]
  },
  {
   "source": [
    "#### OBJET CONFIGURATION\n",
    "\n",
    "L'objet configuration représente la configuration defini (imposée) du bras pour le calcul des déplacement en mode CARTESIAN.\n",
    "Il est défini par les paramêtres suivants :\n",
    "* wrist : config du poignet => FLIP ou NOFLIP\n",
    "* forearm : config de l'avant bras => UP ou DOWN\n",
    "* arm : config du bras => TOWARD ou BACKWARD\n",
    "* j4, j5, j6 : debattement angulaire des axe j4, j5 et j6 toujours à 0 pour notre besoin\n",
    "\n",
    "Je défini la config pour chaque element (wrist, forearm, arm) sous la forme d'une enumeration avec en cle les options sous le format \"human readable\" et l'instruction du programme fanuc en valeur."
   ],
   "cell_type": "markdown",
   "metadata": {}
  },
  {
   "cell_type": "code",
   "execution_count": 17,
   "metadata": {},
   "outputs": [],
   "source": [
    "class Configuration:\n",
    "    def __init__(self, wrist, forearm, arm):\n",
    "        self._wrist = wrist\n",
    "        self._forearm = forearm\n",
    "        self._arm = arm\n",
    "        self._j4 = 0\n",
    "        self._j5 = 0\n",
    "        self._j6 = 0\n",
    "\n",
    "class WristConfig(Enum):\n",
    "    FLIP='F'\n",
    "    NOFLIP='N'\n",
    "\n",
    "class ForeArmConfig(Enum):\n",
    "    UP='U'\n",
    "    DOWN='D'\n",
    "\n",
    "class ArmConfig(Enum):\n",
    "    TOWARD='T'\n",
    "    BACKWARD='D'"
   ]
  },
  {
   "source": [
    "### CLASSE DE SERIALISATION\n",
    "\n",
    "Ma classe Serializer contient toutes les fonctions pour la [sérialisation](https://docs.microsoft.com/fr-fr/dotnet/csharp/programming-guide/concepts/serialization/#:~:text=La%20s%C3%A9rialisation%20est%20le%20processus,processus%20inverse%20est%20appel%C3%A9%20d%C3%A9s%C3%A9rialisation.) de mes objets pour un enregistrement en base ou la génération du build process.\n",
    "\n",
    "A terme, elle contiendra également les fonctions de déserialisation.\n"
   ],
   "cell_type": "markdown",
   "metadata": {}
  },
  {
   "cell_type": "code",
   "execution_count": 19,
   "metadata": {},
   "outputs": [],
   "source": [
    "class Serializer:\n",
    "    # fonction de serialisation des objets\n",
    "    @staticmethod\n",
    "    def serialize(obj, form=\"json\", database=False):\n",
    "        if(form ==\"json\"):\n",
    "            so = Serializer.to_dict(obj, database)\n",
    "            return json.dumps(so)\n",
    "    \n",
    "    @staticmethod\n",
    "    def to_dict(obj, database=False):\n",
    "        if obj.__class__.__module__ == 'builtins':\n",
    "            if type(obj) == list:\n",
    "                l=[] \n",
    "                for va in obj:\n",
    "                    l.append(Serializer.to_dict(va, database))\n",
    "                return l\n",
    "            elif type(obj) == dict:\n",
    "                d={} \n",
    "                for key, val in obj.items():\n",
    "                    k = key.replace('_','')\n",
    "                    v = Serializer.to_dict(val, database)   \n",
    "                    d[k]=v \n",
    "                return d\n",
    "            else :\n",
    "                return Serializer.__cast_val(obj)\n",
    "            \n",
    "        elif getattr(obj, 'to_dict', None):\n",
    "            return  Serializer.to_dict(obj.to_dict(), database)\n",
    "        \n",
    "        elif EnumPriorityInterface in obj.__class__.__bases__ or Enum in obj.__class__.__bases__:\n",
    "            if database : \n",
    "                return obj.name\n",
    "            else:\n",
    "                return obj.value\n",
    "        else:\n",
    "            so = {}\n",
    "            for key, val in obj.__dict__.items():\n",
    "                k = key.replace('_','')\n",
    "                v = Serializer.to_dict(val, database)   \n",
    "                so[k]=v\n",
    "            return so\n",
    "        \n",
    "        \n",
    "    @staticmethod\n",
    "    def __cast_val(val):\n",
    "        if isinstance(val, str) and val.isnumeric():\n",
    "            return int(val) if val.isdecimal() else float(val)\n",
    "        else:\n",
    "            return val"
   ]
  },
  {
   "cell_type": "markdown",
   "metadata": {},
   "source": [
    "### MISE EN APPLICATION \n",
    "\n",
    "Definition d'un déplacement de type work sur le point id en6115v2-3.305.\n",
    "Et serialisation pour enregistrement en database\n",
    "\n",
    "Rappel du xml :\n",
    "```xml\n",
    "<Phase id=\"4\" Type=\"position\" Info=\"Drill\" FastName=\"en6115V2-3.305\" Mode=\"crt\">\n",
    "                <Point id=\"1\" UT=\"2\" UF=\"1\" X=\"751.5\" Y=\"1987\" Z=\"-57.75\" W=\"-180\" P=\"0\" R=\"-70\" E1=\"1538\" t4=\"0\" t5=\"0\" t6=\"0\" front=\"true\" up=\"true\" left=\"false\" flip=\"true\" type=\"linear\" speed=\"100\" approx=\"fine\" cnt=\"100\" />\n",
    "            </Phase>\n",
    "```\n"
   ]
  },
  {
   "cell_type": "code",
   "execution_count": 28,
   "metadata": {},
   "outputs": [],
   "source": [
    "# Definition de la position du bras\n",
    "vector = np.array((751.5, 1987,-57.75,-180, 0.0, -70)) # vecteur de position  \n",
    "e1 = 1538.0 # position 7 axe\n",
    "config = Configuration( \n",
    "    WristConfig.FLIP,\n",
    "    ForeArmConfig.UP,\n",
    "    ArmConfig.TOWARD\n",
    ") #config FUT 000\n",
    "\n",
    "# definition d'un objet position type Cartesian\n",
    "position = PositionCrt(vector, e1, config) \n",
    "\n",
    "# definition du point de passage \n",
    "\n",
    "cnt = 100 # precision 100\n",
    "speed = 100 # vitesse 100%\n",
    "path = Path.LINEAR # forme trajectoire\n",
    "point = Point(cnt, speed, path, position)\n",
    "\n",
    "# definition du mouvement\n",
    "\n",
    "ut = 1 # user tool id\n",
    "uf = 1 # user frame id\n",
    "movement = Movement(ut, uf, [point]) \n",
    "\n",
    "# definition de l'action\n",
    "action_id = 'XXXX'\n",
    "action_type =  ActionType['MOVE']['ARM']['WORK']\n",
    "action_desc = 'move to fastener en6115v2-3.305'\n",
    "action_dependencies = []\n",
    "action_next = []\n",
    "\n",
    "action = Action(action_id, action_type, movement, action_desc, action_dependencies, action_next)"
   ]
  },
  {
   "cell_type": "code",
   "execution_count": 30,
   "metadata": {},
   "outputs": [
    {
     "output_type": "stream",
     "name": "stdout",
     "text": [
      "{'definition': {'points': [{'cnt': 100,\n                            'path': 'LINEAR',\n                            'position': {'config': {'arm': 'TOWARD',\n                                                    'forearm': 'UP',\n                                                    'j4': 0,\n                                                    'j5': 0,\n                                                    'j6': 0,\n                                                    'wrist': 'FLIP'},\n                                         'e1': 1538.0,\n                                         'type': 'CARTESIAN',\n                                         'vector': {'p': 0.0,\n                                                    'r': -70.0,\n                                                    'w': -180.0,\n                                                    'x': 751.5,\n                                                    'y': 1987.0,\n                                                    'z': -57.75}},\n                            'speed': 100}],\n                'uf': 1,\n                'ut': 1},\n 'dependencies': [],\n 'description': 'move to fastener en6115v2-3.305',\n 'id': 'XXXX',\n 'next': [],\n 'type': 'MOVE.ARM.WORK'}\n"
     ]
    }
   ],
   "source": [
    "# affichage de la version serialise pour enregistrement en database\n",
    "pprint.pprint(Serializer.to_dict(action, database=True))"
   ]
  },
  {
   "cell_type": "markdown",
   "metadata": {},
   "source": [
    "### PARSING XML ET CREATION DU PROCESS"
   ]
  },
  {
   "cell_type": "code",
   "execution_count": 15,
   "metadata": {
    "collapsed": true
   },
   "outputs": [],
   "source": [
    "import lxml"
   ]
  },
  {
   "cell_type": "code",
   "execution_count": 16,
   "metadata": {
    "collapsed": true
   },
   "outputs": [],
   "source": [
    "with open('BuildProcess.xml', 'r') as f:\n",
    "    txt = f.readlines()\n",
    "    txt = ''.join(txt)"
   ]
  },
  {
   "cell_type": "code",
   "execution_count": 21,
   "metadata": {
    "collapsed": false
   },
   "outputs": [],
   "source": [
    "# racine du fichier\n",
    "xbp = bs4.BeautifulSoup(txt, 'lxml')"
   ]
  },
  {
   "cell_type": "code",
   "execution_count": 22,
   "metadata": {
    "collapsed": false
   },
   "outputs": [],
   "source": [
    "phases = xbp.find_all('phase')"
   ]
  },
  {
   "cell_type": "code",
   "execution_count": 23,
   "metadata": {
    "collapsed": false
   },
   "outputs": [
    {
     "data": {
      "text/plain": [
       "<phase fastname=\"asna2392-3-04.178\" id=\"2\" info=\"Drill\" mode=\"crt\" type=\"position\"><point approx=\"fine\" cnt=\"100\" e1=\"700\" flip=\"true\" front=\"true\" id=\"1\" left=\"false\" p=\"-90\" r=\"0\" speed=\"100\" t4=\"0\" t5=\"0\" t6=\"0\" type=\"linear\" uf=\"1\" up=\"true\" ut=\"1\" w=\"90\" x=\"810.3\" y=\"1360\" z=\"-27.1\"></point></phase>"
      ]
     },
     "execution_count": 23,
     "metadata": {},
     "output_type": "execute_result"
    }
   ],
   "source": [
    "phases[1]"
   ]
  },
  {
   "cell_type": "code",
   "execution_count": 24,
   "metadata": {
    "collapsed": true
   },
   "outputs": [],
   "source": [
    "points = phases[1].find_all('point')"
   ]
  },
  {
   "cell_type": "code",
   "execution_count": 25,
   "metadata": {
    "collapsed": false
   },
   "outputs": [
    {
     "data": {
      "text/plain": [
       "<point approx=\"fine\" cnt=\"100\" e1=\"700\" flip=\"true\" front=\"true\" id=\"1\" left=\"false\" p=\"-90\" r=\"0\" speed=\"100\" t4=\"0\" t5=\"0\" t6=\"0\" type=\"linear\" uf=\"1\" up=\"true\" ut=\"1\" w=\"90\" x=\"810.3\" y=\"1360\" z=\"-27.1\"></point>"
      ]
     },
     "execution_count": 25,
     "metadata": {},
     "output_type": "execute_result"
    }
   ],
   "source": [
    "points[0]"
   ]
  },
  {
   "cell_type": "code",
   "execution_count": 26,
   "metadata": {
    "collapsed": false
   },
   "outputs": [],
   "source": [
    "def getPath(xml_path):\n",
    "    path = None\n",
    "    if xml_path ==\"linear\":\n",
    "        path = Path.LINEAR\n",
    "    elif xml_path == \"joint\":\n",
    "        path = Path.JOINT\n",
    "    else:\n",
    "        path = Path.CIRCULAR\n",
    "    return path\n",
    "\n",
    "\n",
    "#vecteur de position\n",
    "def getMovementFromXMLPhases(bsxml_phase):\n",
    "    \n",
    "    #get phase attributes\n",
    "    phat = bsxml_phase.attrs\n",
    "    \n",
    "    #get bs points \n",
    "    points = bsxml_phase.find_all('point')\n",
    "    \n",
    "    ps=[]\n",
    "    uf = points[0].attrs.get('uf')\n",
    "    ut = points[0].attrs.get('ut')\n",
    "    \n",
    "    for p in points:\n",
    "        ps.append(getPointFromXMLPoint(p, phat['mode']))\n",
    "\n",
    "    return Movement(uf, ut, ps)\n",
    "\n",
    "\n",
    "def getPointFromXMLPoint(point, pos_type):\n",
    "    \n",
    "    poat = point.attrs\n",
    "    path = getPath(poat['type'])\n",
    "    \n",
    "    cnt = poat.get('cnt')\n",
    "    speed = poat.get('speed')\n",
    "    \n",
    "    vector = np.array([\n",
    "            poat['x'],\n",
    "            poat['y'],\n",
    "            poat['z'],\n",
    "            poat['w'],\n",
    "            poat['p'],\n",
    "            poat['r']])\n",
    "\n",
    "    config = None\n",
    "    \n",
    "    if poat.get(\"front\") and poat.get(\"up\") and poat.get(\"left\") and poat.get(\"flip\"):\n",
    "        config = Configuration(Wrist.FLIP if bool(poat.get(\"flip\")) else Wrist.NOFLIP,\n",
    "                               ForeArm.UP if bool(poat.get(\"up\")) else ForeArm.DOWN,\n",
    "                               Arm.TOWARD if bool(poat.get(\"front\")) else Arm.BACKWARD\n",
    "                               )\n",
    "\n",
    "    e1 = poat.get('e1')\n",
    "\n",
    "    if pos_type ==\"joint\":\n",
    "        position = PositionJoint(vector, e1)\n",
    "    elif pos_type == 'crt':\n",
    "        position = PositionCrt(vector, e1, config)\n",
    "    else :\n",
    "        position = None\n",
    "    \n",
    "    return Point(cnt, speed, path, position)\n",
    "    \n",
    "\n",
    "def getActionFromXMLStation(bsxml_station):\n",
    "    \n",
    "    actions = []\n",
    "    phases = bsxml_station.find_all('phase')\n",
    "    \n",
    "    for p in phases:\n",
    "        mov = getMovementFromXMLPhases(p)\n",
    "        actions.append(Action(0, ActionType['MOVE'][''], mov, p.attrs['info'], [], [])) \n",
    "        #id, atype, definition, description, dependencies, anext\n",
    "        \n",
    "    return actions\n",
    "    "
   ]
  },
  {
   "cell_type": "code",
   "execution_count": 27,
   "metadata": {
    "collapsed": false
   },
   "outputs": [],
   "source": [
    "steps = xbp.find_all('step')\n",
    "stations = steps[0].find_all('station')\n",
    "\n",
    "la = getActionFromXMLStation(stations[0])"
   ]
  },
  {
   "cell_type": "markdown",
   "metadata": {
    "collapsed": false
   },
   "source": [
    "s = []\n",
    "for a in la:\n",
    "    s.append(Serializer.serialize(a))"
   ]
  },
  {
   "cell_type": "code",
   "execution_count": null,
   "metadata": {
    "collapsed": false
   },
   "outputs": [],
   "source": [
    "s =\"[\"+ \",\".join(s)+\"]\""
   ]
  },
  {
   "cell_type": "markdown",
   "metadata": {},
   "source": [
    "## CREATION DES ACTIONS POUR ENREGISTREMENT"
   ]
  },
  {
   "cell_type": "code",
   "execution_count": 25,
   "metadata": {
    "collapsed": true
   },
   "outputs": [],
   "source": [
    "import pandas"
   ]
  },
  {
   "cell_type": "markdown",
   "metadata": {},
   "source": [
    "### RAIL 1"
   ]
  },
  {
   "cell_type": "code",
   "execution_count": 26,
   "metadata": {
    "collapsed": true
   },
   "outputs": [],
   "source": [
    "df = pandas.read_csv('rail1_data.csv')"
   ]
  },
  {
   "cell_type": "code",
   "execution_count": 28,
   "metadata": {
    "collapsed": false
   },
   "outputs": [],
   "source": [
    "def get_position(data):\n",
    "    vector = np.array([data.x_j1, data.y_j2, data.z_j3, data.w_j4, data.p_j5, data.r_j6])\n",
    "    if(data.type == 'JOINT'):\n",
    "        return PositionJoint(vector, data.e1)\n",
    "    else:\n",
    "        wrist = Wrist.FLIP if data.wrist == 'F' else Wrist.NOFLIP\n",
    "        forearm = ForeArm.UP if data.forearm == 'U' else ForeArm.DOWN\n",
    "        arm = Arm.TOWARD if data.arm == 'T' else Arm.BACKWARD\n",
    "        \n",
    "        config = Configuration(wrist, forearm, arm)\n",
    "        return PositionCrt(vector, data.e1, config)\n",
    "\n",
    "    \n",
    "def getMovementFromDf(df_data):\n",
    "    points = []\n",
    "    for i, d in df_data.iterrows():\n",
    "        position = get_position(d)\n",
    "        if d.type == 'JOINT':\n",
    "            path = Path.JOINT\n",
    "        elif d.type == 'CARTESIAN':\n",
    "            path = Path.LINEAR\n",
    "        else:\n",
    "            path =Path.CIRCULAR\n",
    "        \n",
    "        points.append(Point(100, 100, path, position))\n",
    "    return Movement(ut=1, uf=1, points=points)\n",
    "\n",
    "\n",
    "#Action(1, ActionType['MOVE']['ARM']['WORK'], work_1_mvt, \"move to point 1\", [], [])\n",
    "#Point(100,100,Path['LINEAR'], PositionCrt(np.array([0.0,25.0,40.0,113.0,-307]), e1=-300.0, config=work1_config))"
   ]
  },
  {
   "cell_type": "markdown",
   "metadata": {},
   "source": [
    "#### APPROCHE"
   ]
  },
  {
   "cell_type": "code",
   "execution_count": 33,
   "metadata": {
    "collapsed": false
   },
   "outputs": [],
   "source": [
    "app_mvt_df = df[df.mvt == 'approach']\n",
    "app_mvt_df = app_mvt_df.dropna(axis=1)\n",
    "app_mvt_df.index = app_mvt_df.points\n",
    "app_mvt_df = app_mvt_df.drop(['points','mvt'], axis=1)"
   ]
  },
  {
   "cell_type": "code",
   "execution_count": 34,
   "metadata": {
    "collapsed": false
   },
   "outputs": [
    {
     "data": {
      "text/html": [
       "<div>\n",
       "<style scoped>\n",
       "    .dataframe tbody tr th:only-of-type {\n",
       "        vertical-align: middle;\n",
       "    }\n",
       "\n",
       "    .dataframe tbody tr th {\n",
       "        vertical-align: top;\n",
       "    }\n",
       "\n",
       "    .dataframe thead th {\n",
       "        text-align: right;\n",
       "    }\n",
       "</style>\n",
       "<table border=\"1\" class=\"dataframe\">\n",
       "  <thead>\n",
       "    <tr style=\"text-align: right;\">\n",
       "      <th></th>\n",
       "      <th>type</th>\n",
       "      <th>x_j1</th>\n",
       "      <th>y_j2</th>\n",
       "      <th>z_j3</th>\n",
       "      <th>w_j4</th>\n",
       "      <th>p_j5</th>\n",
       "      <th>r_j6</th>\n",
       "      <th>e1</th>\n",
       "    </tr>\n",
       "    <tr>\n",
       "      <th>points</th>\n",
       "      <th></th>\n",
       "      <th></th>\n",
       "      <th></th>\n",
       "      <th></th>\n",
       "      <th></th>\n",
       "      <th></th>\n",
       "      <th></th>\n",
       "      <th></th>\n",
       "    </tr>\n",
       "  </thead>\n",
       "  <tbody>\n",
       "    <tr>\n",
       "      <th>12</th>\n",
       "      <td>JOINT</td>\n",
       "      <td>0.00</td>\n",
       "      <td>25.00</td>\n",
       "      <td>-30.00</td>\n",
       "      <td>0.00</td>\n",
       "      <td>113.00</td>\n",
       "      <td>0.00</td>\n",
       "      <td>-300.0</td>\n",
       "    </tr>\n",
       "    <tr>\n",
       "      <th>13</th>\n",
       "      <td>JOINT</td>\n",
       "      <td>24.60</td>\n",
       "      <td>37.01</td>\n",
       "      <td>-12.60</td>\n",
       "      <td>-71.07</td>\n",
       "      <td>115.06</td>\n",
       "      <td>27.86</td>\n",
       "      <td>-300.0</td>\n",
       "    </tr>\n",
       "    <tr>\n",
       "      <th>14</th>\n",
       "      <td>JOINT</td>\n",
       "      <td>24.60</td>\n",
       "      <td>37.01</td>\n",
       "      <td>-12.60</td>\n",
       "      <td>-71.07</td>\n",
       "      <td>115.06</td>\n",
       "      <td>-29.74</td>\n",
       "      <td>-300.0</td>\n",
       "    </tr>\n",
       "    <tr>\n",
       "      <th>15</th>\n",
       "      <td>JOINT</td>\n",
       "      <td>30.79</td>\n",
       "      <td>40.03</td>\n",
       "      <td>-5.71</td>\n",
       "      <td>-88.94</td>\n",
       "      <td>115.58</td>\n",
       "      <td>-13.89</td>\n",
       "      <td>-300.0</td>\n",
       "    </tr>\n",
       "    <tr>\n",
       "      <th>16</th>\n",
       "      <td>JOINT</td>\n",
       "      <td>41.35</td>\n",
       "      <td>45.74</td>\n",
       "      <td>7.34</td>\n",
       "      <td>-80.60</td>\n",
       "      <td>125.00</td>\n",
       "      <td>51.18</td>\n",
       "      <td>-300.0</td>\n",
       "    </tr>\n",
       "  </tbody>\n",
       "</table>\n",
       "</div>"
      ],
      "text/plain": [
       "         type   x_j1   y_j2   z_j3   w_j4    p_j5   r_j6     e1\n",
       "points                                                         \n",
       "12      JOINT   0.00  25.00 -30.00   0.00  113.00   0.00 -300.0\n",
       "13      JOINT  24.60  37.01 -12.60 -71.07  115.06  27.86 -300.0\n",
       "14      JOINT  24.60  37.01 -12.60 -71.07  115.06 -29.74 -300.0\n",
       "15      JOINT  30.79  40.03  -5.71 -88.94  115.58 -13.89 -300.0\n",
       "16      JOINT  41.35  45.74   7.34 -80.60  125.00  51.18 -300.0"
      ]
     },
     "execution_count": 34,
     "metadata": {},
     "output_type": "execute_result"
    }
   ],
   "source": [
    "app_mvt.head()"
   ]
  },
  {
   "cell_type": "code",
   "execution_count": 57,
   "metadata": {
    "collapsed": false
   },
   "outputs": [
    {
     "data": {
      "text/plain": [
       "{\"id\": 1, \"type\": [50, \"MOVE.ARM.APPROACH\"], \"definition\": {\"uf\": 1, \"ut\": 1, \"points\": [{\"cnt\": 100, \"speed\": 100, \"position\": {\"vector\": {\"j1\": 0.0, \"j2\": 25.0, \"j3\": -30.0, \"j4\": 0.0, \"j5\": 113.0, \"j6\": 0.0}, \"type\": \"jnt\", \"config\": null, \"e1\": -300.0}, \"path\": \"J\"}, {\"cnt\": 100, \"speed\": 100, \"position\": {\"vector\": {\"j1\": 24.6, \"j2\": 37.01, \"j3\": -12.6, \"j4\": -71.07, \"j5\": 115.06, \"j6\": 27.86}, \"type\": \"jnt\", \"config\": null, \"e1\": -300.0}, \"path\": \"J\"}, {\"cnt\": 100, \"speed\": 100, \"position\": {\"vector\": {\"j1\": 24.6, \"j2\": 37.01, \"j3\": -12.6, \"j4\": -71.07, \"j5\": 115.06, \"j6\": -29.74}, \"type\": \"jnt\", \"config\": null, \"e1\": -300.0}, \"path\": \"J\"}, {\"cnt\": 100, \"speed\": 100, \"position\": {\"vector\": {\"j1\": 30.79, \"j2\": 40.03, \"j3\": -5.71, \"j4\": -88.94, \"j5\": 115.58, \"j6\": -13.89}, \"type\": \"jnt\", \"config\": null, \"e1\": -300.0}, \"path\": \"J\"}, {\"cnt\": 100, \"speed\": 100, \"position\": {\"vector\": {\"j1\": 41.35, \"j2\": 45.74, \"j3\": 7.34, \"j4\": -80.6, \"j5\": 125.0, \"j6\": 51.18}, \"type\": \"jnt\", \"config\": null, \"e1\": -300.0}, \"path\": \"J\"}, {\"cnt\": 100, \"speed\": 100, \"position\": {\"vector\": {\"j1\": 45.13, \"j2\": 42.93, \"j3\": 18.94, \"j4\": -121.71, \"j5\": 112.68, \"j6\": 53.4}, \"type\": \"jnt\", \"config\": null, \"e1\": -300.0}, \"path\": \"J\"}, {\"cnt\": 100, \"speed\": 100, \"position\": {\"vector\": {\"j1\": 44.99, \"j2\": 46.97, \"j3\": 10.11, \"j4\": -129.98, \"j5\": 116.76, \"j6\": 50.96}, \"type\": \"jnt\", \"config\": null, \"e1\": -300.0}, \"path\": \"J\"}, {\"cnt\": 100, \"speed\": 100, \"position\": {\"vector\": {\"j1\": 43.22, \"j2\": 49.37, \"j3\": 1.06, \"j4\": -129.16, \"j5\": 106.21, \"j6\": 41.02}, \"type\": \"jnt\", \"config\": null, \"e1\": -300.0}, \"path\": \"J\"}]}, \"dependencies\": [], \"next\": [], \"description\": \"approach movement for rail 1 web fasteners\"}"
      ]
     },
     "execution_count": 57,
     "metadata": {},
     "output_type": "execute_result"
    }
   ],
   "source": [
    "app_mov = getMovementFromDf(app_mvt_df)\n",
    "app_action = Action(1, ActionType['MOVE.ARM.APPROACH'], app_mov, 'approach movement for rail 1 web fasteners', [], [])\n",
    "app_action"
   ]
  },
  {
   "cell_type": "markdown",
   "metadata": {},
   "source": [
    "#### CLEARANCE"
   ]
  },
  {
   "cell_type": "code",
   "execution_count": 38,
   "metadata": {
    "collapsed": false
   },
   "outputs": [
    {
     "data": {
      "text/html": [
       "<div>\n",
       "<style scoped>\n",
       "    .dataframe tbody tr th:only-of-type {\n",
       "        vertical-align: middle;\n",
       "    }\n",
       "\n",
       "    .dataframe tbody tr th {\n",
       "        vertical-align: top;\n",
       "    }\n",
       "\n",
       "    .dataframe thead th {\n",
       "        text-align: right;\n",
       "    }\n",
       "</style>\n",
       "<table border=\"1\" class=\"dataframe\">\n",
       "  <thead>\n",
       "    <tr style=\"text-align: right;\">\n",
       "      <th></th>\n",
       "      <th>type</th>\n",
       "      <th>x_j1</th>\n",
       "      <th>y_j2</th>\n",
       "      <th>z_j3</th>\n",
       "      <th>w_j4</th>\n",
       "      <th>p_j5</th>\n",
       "      <th>r_j6</th>\n",
       "      <th>e1</th>\n",
       "    </tr>\n",
       "    <tr>\n",
       "      <th>points</th>\n",
       "      <th></th>\n",
       "      <th></th>\n",
       "      <th></th>\n",
       "      <th></th>\n",
       "      <th></th>\n",
       "      <th></th>\n",
       "      <th></th>\n",
       "      <th></th>\n",
       "    </tr>\n",
       "  </thead>\n",
       "  <tbody>\n",
       "    <tr>\n",
       "      <th>10</th>\n",
       "      <td>JOINT</td>\n",
       "      <td>43.22</td>\n",
       "      <td>49.37</td>\n",
       "      <td>1.06</td>\n",
       "      <td>-129.16</td>\n",
       "      <td>106.21</td>\n",
       "      <td>41.02</td>\n",
       "      <td>-300.0</td>\n",
       "    </tr>\n",
       "    <tr>\n",
       "      <th>11</th>\n",
       "      <td>JOINT</td>\n",
       "      <td>44.99</td>\n",
       "      <td>46.97</td>\n",
       "      <td>10.11</td>\n",
       "      <td>-129.98</td>\n",
       "      <td>116.76</td>\n",
       "      <td>50.96</td>\n",
       "      <td>-300.0</td>\n",
       "    </tr>\n",
       "    <tr>\n",
       "      <th>17</th>\n",
       "      <td>JOINT</td>\n",
       "      <td>45.13</td>\n",
       "      <td>42.93</td>\n",
       "      <td>18.94</td>\n",
       "      <td>-121.71</td>\n",
       "      <td>112.68</td>\n",
       "      <td>53.40</td>\n",
       "      <td>-300.0</td>\n",
       "    </tr>\n",
       "    <tr>\n",
       "      <th>16</th>\n",
       "      <td>JOINT</td>\n",
       "      <td>41.35</td>\n",
       "      <td>45.74</td>\n",
       "      <td>7.34</td>\n",
       "      <td>-80.60</td>\n",
       "      <td>125.00</td>\n",
       "      <td>51.18</td>\n",
       "      <td>-300.0</td>\n",
       "    </tr>\n",
       "    <tr>\n",
       "      <th>15</th>\n",
       "      <td>JOINT</td>\n",
       "      <td>30.79</td>\n",
       "      <td>40.03</td>\n",
       "      <td>-5.71</td>\n",
       "      <td>-88.94</td>\n",
       "      <td>115.58</td>\n",
       "      <td>-13.89</td>\n",
       "      <td>-300.0</td>\n",
       "    </tr>\n",
       "  </tbody>\n",
       "</table>\n",
       "</div>"
      ],
      "text/plain": [
       "         type   x_j1   y_j2   z_j3    w_j4    p_j5   r_j6     e1\n",
       "points                                                          \n",
       "10      JOINT  43.22  49.37   1.06 -129.16  106.21  41.02 -300.0\n",
       "11      JOINT  44.99  46.97  10.11 -129.98  116.76  50.96 -300.0\n",
       "17      JOINT  45.13  42.93  18.94 -121.71  112.68  53.40 -300.0\n",
       "16      JOINT  41.35  45.74   7.34  -80.60  125.00  51.18 -300.0\n",
       "15      JOINT  30.79  40.03  -5.71  -88.94  115.58 -13.89 -300.0"
      ]
     },
     "execution_count": 38,
     "metadata": {},
     "output_type": "execute_result"
    }
   ],
   "source": [
    "clear_mvt_df = df[df.mvt == 'clearance']\n",
    "clear_mvt_df = clear_mvt_df.dropna(axis=1)\n",
    "clear_mvt_df.index = clear_mvt_df.points\n",
    "clear_mvt_df = clear_mvt_df.drop(['points','mvt'], axis=1)\n",
    "clear_mvt_df.head()"
   ]
  },
  {
   "cell_type": "code",
   "execution_count": 53,
   "metadata": {
    "collapsed": false
   },
   "outputs": [],
   "source": [
    "clear_mvt = getMovementFromDf(clear_mvt_df)\n",
    "clear_action = Action(2, ActionType['MOVE.ARM.CLEARANCE'], clear_mvt, 'clearance movement for rail 1 web fasteners', [], [])"
   ]
  },
  {
   "cell_type": "code",
   "execution_count": 56,
   "metadata": {
    "collapsed": false
   },
   "outputs": [
    {
     "data": {
      "text/plain": [
       "{\"id\": 2, \"type\": [50, \"MOVE.ARM.CLEARANCE\"], \"definition\": {\"uf\": 1, \"ut\": 1, \"points\": [{\"cnt\": 100, \"speed\": 100, \"position\": {\"vector\": {\"j1\": 43.22, \"j2\": 49.37, \"j3\": 1.06, \"j4\": -129.16, \"j5\": 106.21, \"j6\": 41.02}, \"type\": \"jnt\", \"config\": null, \"e1\": -300.0}, \"path\": \"J\"}, {\"cnt\": 100, \"speed\": 100, \"position\": {\"vector\": {\"j1\": 44.99, \"j2\": 46.97, \"j3\": 10.11, \"j4\": -129.98, \"j5\": 116.76, \"j6\": 50.96}, \"type\": \"jnt\", \"config\": null, \"e1\": -300.0}, \"path\": \"J\"}, {\"cnt\": 100, \"speed\": 100, \"position\": {\"vector\": {\"j1\": 45.13, \"j2\": 42.93, \"j3\": 18.94, \"j4\": -121.71, \"j5\": 112.68, \"j6\": 53.4}, \"type\": \"jnt\", \"config\": null, \"e1\": -300.0}, \"path\": \"J\"}, {\"cnt\": 100, \"speed\": 100, \"position\": {\"vector\": {\"j1\": 41.35, \"j2\": 45.74, \"j3\": 7.34, \"j4\": -80.6, \"j5\": 125.0, \"j6\": 51.18}, \"type\": \"jnt\", \"config\": null, \"e1\": -300.0}, \"path\": \"J\"}, {\"cnt\": 100, \"speed\": 100, \"position\": {\"vector\": {\"j1\": 30.79, \"j2\": 40.03, \"j3\": -5.71, \"j4\": -88.94, \"j5\": 115.58, \"j6\": -13.89}, \"type\": \"jnt\", \"config\": null, \"e1\": -300.0}, \"path\": \"J\"}, {\"cnt\": 100, \"speed\": 100, \"position\": {\"vector\": {\"j1\": 24.6, \"j2\": 37.01, \"j3\": -12.6, \"j4\": -71.07, \"j5\": 115.06, \"j6\": -29.74}, \"type\": \"jnt\", \"config\": null, \"e1\": -300.0}, \"path\": \"J\"}, {\"cnt\": 100, \"speed\": 100, \"position\": {\"vector\": {\"j1\": 24.6, \"j2\": 37.01, \"j3\": -12.6, \"j4\": -71.07, \"j5\": 115.06, \"j6\": 27.86}, \"type\": \"jnt\", \"config\": null, \"e1\": -300.0}, \"path\": \"J\"}, {\"cnt\": 100, \"speed\": 100, \"position\": {\"vector\": {\"j1\": 0.0, \"j2\": 25.0, \"j3\": -30.0, \"j4\": 0.0, \"j5\": 113.0, \"j6\": 0.0}, \"type\": \"jnt\", \"config\": null, \"e1\": -300.0}, \"path\": \"J\"}]}, \"dependencies\": [], \"next\": [], \"description\": \"clearance movement for rail 1 web fasteners\"}"
      ]
     },
     "execution_count": 56,
     "metadata": {},
     "output_type": "execute_result"
    }
   ],
   "source": [
    "clear_action"
   ]
  },
  {
   "cell_type": "code",
   "execution_count": null,
   "metadata": {
    "collapsed": true
   },
   "outputs": [],
   "source": []
  }
 ],
 "metadata": {
  "kernelspec": {
   "name": "python362jvsc74a57bd0c9ed314b904907a4c4e53c9fcb6bf4c0c17cbf8e65a4ac8bddd1024b2b151b75",
   "display_name": "Python 3.6.2 32-bit ('mars': conda)"
  },
  "language_info": {
   "codemirror_mode": {
    "name": "ipython",
    "version": 3
   },
   "file_extension": ".py",
   "mimetype": "text/x-python",
   "name": "python",
   "nbconvert_exporter": "python",
   "pygments_lexer": "ipython3",
   "version": "3.6.2"
  }
 },
 "nbformat": 4,
 "nbformat_minor": 2
}