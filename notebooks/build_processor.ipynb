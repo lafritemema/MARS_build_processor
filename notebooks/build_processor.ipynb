{
 "cells": [
  {
   "cell_type": "code",
   "execution_count": 2,
   "metadata": {
    "collapsed": false
   },
   "outputs": [],
   "source": [
    "import bs4\n",
    "import json\n",
    "from enum import Enum, EnumMeta\n",
    "import numpy as np\n",
    "import pprint"
   ]
  },
  {
   "source": [
    "# BUILD PROCESSOR DEV NOTEBOOK"
   ],
   "cell_type": "markdown",
   "metadata": {}
  },
  {
   "source": [
    "## INTRODUCTION\n",
    "\n",
    "L'algorithme de build processor construit le build process.  \n",
    "Le build process contient la liste des actions basiques (movement, changement station ...) envoyées au robot pour effectuer l'opération demandée.  \n",
    "Ces actions sont définies par les roboticiens et seront (à terme) stoquées dans une base de données.\n",
    "\n",
    "La construction automatique du build process repose sur un système de dépendancies et de next \n",
    "Pour chaque action stoquées dans la base, le roboticiens définies des actions qui devront être réalisées avant l'action ciblée (les dépendancies) et celles qui devront être réalisées après (les next).\n",
    "\n",
    "Exemple :  \n",
    "Pour le perçages du fasteners `en6115v2-3.305`, l'action robot associée est une action de type WORK.DRILLING avec l'id 1234. \n",
    "\n",
    "Avant d'effectuer le perçage, le robot dois effectuer un déplacement sur le point a percer : cette action est une dependance de l'action de perçage.  \n",
    "\n",
    "Avant de me déplacement sur le point, le robot doit effectuer une phase d'approche sur le rail ciblé : cette action est une dependance de l'action de déplacement ...  \n",
    "\n",
    "Après l'actioin de perçage, un contrôle est éventuellement nécessaire : cette action est un next de l'action de perçage.  \n",
    "...\n",
    "\n",
    "![dependencies](./media/dependencies_next.png)\n",
    "\n",
    "Donc pour une action donnée, le build processor identifie l'action robot associée, liste les actions dependantes et resultantes (dependencies et next) et construit un arbre d'action représentant le build process."
   ],
   "cell_type": "markdown",
   "metadata": {}
  },
  {
   "cell_type": "markdown",
   "metadata": {},
   "source": [
    "## DEFINITION D'UNE ACTION\n",
    "\n",
    "L'action est une operation basique effectué par le robot\n",
    "Elle est definie par les parametres suivants :\n",
    "* un id unique\n",
    "* le type de l'action (mouvement d'approche, changement de station ...)\n",
    "* sa definition (un objet qui décris l'action en fonction de son type)\n",
    "* ses dépendences (la liste des actions à réaliser avant)\n",
    "* ses next (la liste des actions à réaliser après)\n",
    "* une description (lisible par un humain)\n",
    "\n"
   ]
  },
  {
   "cell_type": "code",
   "execution_count": 109,
   "metadata": {},
   "outputs": [],
   "source": [
    "class Action:\n",
    "    def __init__(self, id, atype, definition, description, dependencies=[], anext=[]):\n",
    "        self._id = id\n",
    "        self._type = atype\n",
    "        self._definition = definition\n",
    "        self._dependencies = dependencies\n",
    "        self._next = anext\n",
    "        self._description = description\n",
    "        \n",
    "    def __repr__(self):\n",
    "        return self._description\n",
    "\n",
    "    @property\n",
    "    def dependencies(self):\n",
    "        return self._dependencies\n",
    "        \n",
    "    @dependencies.setter\n",
    "    def dependencies(self,dl):\n",
    "        self._dependencies = dl\n",
    "    \n",
    "    @property\n",
    "    def next(self):\n",
    "        return self._next\n",
    "    \n",
    "    @next.setter\n",
    "    def next(self, nl):\n",
    "        self._next = nl\n",
    "\n",
    "    @property\n",
    "    def id(self):\n",
    "        return self._id\n",
    "    \n",
    "    @property\n",
    "    def type(self):\n",
    "        return self._type.name\n",
    "\n",
    "    @property\n",
    "    def definition(self):\n",
    "        return self._definition\n",
    "    \n",
    "    @property\n",
    "    def priority(self):\n",
    "        return self._type.priority\n",
    "    \n",
    "    @property\n",
    "    def description(self):\n",
    "        return self._description\n",
    "\n",
    "    def addDependence(self, action):\n",
    "        self._dependencies.append(action)\n",
    "    \n",
    "    def addNext(self, action):\n",
    "        self._next.append(action)\n"
   ]
  },
  {
   "source": [
    "### LE TYPE\n",
    "\n",
    "Le type de l'action a 2 fonctions :\n",
    "* déclarer le type de l'action\n",
    "* définir la priorité de l'action (son niveau dans l'arbre de process)\n",
    "\n",
    "J'ai défini les types sous la forme d'enumerations à plusieurs niveaux respectant le format : `TYPE.ELEMENT.MODE`.  \n",
    "J'associe à chaque type :\n",
    "* un parametre de priorité, qui donne à l'action sa position dans l'arbre de process\n",
    "* un nom\n",
    "\n",
    "Ex : Mouvement du bras en approche :\n",
    "* Enumeration => MOVE.ARM.APPROACH\n",
    "* Priorité => 50\n",
    "* Nom : \"MOVE.ARM.APPROACH\""
   ],
   "cell_type": "markdown",
   "metadata": {}
  },
  {
   "source": [
    "Pour gérer le routage vers les sous niveau et les paramêtres de priorité je définis 2 interfaces héritant de EnumMeta qui implémente les fonctions dont j'ai besoin."
   ],
   "cell_type": "markdown",
   "metadata": {}
  },
  {
   "cell_type": "code",
   "execution_count": 110,
   "metadata": {},
   "outputs": [],
   "source": [
    "class EnumLevelInterface(EnumMeta):\n",
    "    \"\"\"\n",
    "    Interface pour prendre un charge l'enumeration à plusieurs niveau\n",
    "    \"\"\"\n",
    "    def __getitem__(self, name):\n",
    "        # surcharge de la function __getitem__ pour gerer l enumeration a plusieurs niveaux\n",
    "        dot = name.find('.')\n",
    "        if dot!=-1:\n",
    "            cindex = name[:dot]\n",
    "            oindex = name[(dot+1):]\n",
    "            e = super().__getitem__(cindex).value\n",
    "            return e.__getitem__(oindex)\n",
    "        else:\n",
    "            e = super().__getitem__(name)\n",
    "            if EnumPriorityInterface in e.__class__.__bases__:\n",
    "                return e\n",
    "            else:\n",
    "                return e.value\n",
    "    \n",
    "class EnumPriorityInterface(Enum, metaclass=EnumLevelInterface):\n",
    "    \"\"\"\n",
    "    Interface de definition de l'objet Type\n",
    "    \"\"\"    \n",
    "    def __init__(self, priority, name):\n",
    "        # creation de l instance\n",
    "        self._priority = priority\n",
    "        self._name = name \n",
    "\n",
    "    @property\n",
    "    def priority(self):\n",
    "        # getter priority\n",
    "        return self._priority\n",
    "    @property\n",
    "    def name(self):\n",
    "        # getter  name\n",
    "        return self._name"
   ]
  },
  {
   "source": [
    "\n",
    "#### DEFINITION DES ENUMERATION TYPES\n",
    "\n",
    "TYPE MOVE ARM"
   ],
   "cell_type": "markdown",
   "metadata": {}
  },
  {
   "cell_type": "code",
   "execution_count": 111,
   "metadata": {},
   "outputs": [],
   "source": [
    "class ActionArmMove(EnumPriorityInterface, metaclass=EnumLevelInterface):\n",
    "    # enumeration MOVE.ARM avec 3 modes : APPROACH CLEARANCE WORK\n",
    "    APPROACH = (50, 'MOVE.ARM.APPROACH')\n",
    "    CLEARANCE = (50, 'MOVE.ARM.CLEARANCE')\n",
    "    WORK = (60, 'MOVE.ARM.WORK')"
   ]
  },
  {
   "source": [
    "TYPE MOVE STATION"
   ],
   "cell_type": "markdown",
   "metadata": {}
  },
  {
   "cell_type": "code",
   "execution_count": 112,
   "metadata": {},
   "outputs": [],
   "source": [
    "class ActionStationMove(EnumPriorityInterface, metaclass=EnumLevelInterface):\n",
    "    # enumeration MOVE.STATION avec 2 modes : WORK HOME\n",
    "    WORK = (40, 'MOVE.STATION.WORK')\n",
    "    HOME = (40, 'MOVE.STATION.HOME')"
   ]
  },
  {
   "source": [
    "TYPE WORK"
   ],
   "cell_type": "markdown",
   "metadata": {}
  },
  {
   "cell_type": "code",
   "execution_count": 113,
   "metadata": {},
   "outputs": [],
   "source": [
    "class ActionWork(EnumPriorityInterface, metaclass=EnumLevelInterface):\n",
    "    # enumeration WORK avec 2 modes : DRILL FASTEN\n",
    "    DRILL=(70, 'WORK.DRILL')\n",
    "    FASTEN=(80, 'WORK.FASTEN')"
   ]
  },
  {
   "source": [
    "TYPE LOAD/UNLOAD"
   ],
   "cell_type": "markdown",
   "metadata": {}
  },
  {
   "cell_type": "code",
   "execution_count": 114,
   "metadata": {},
   "outputs": [],
   "source": [
    "class ActionLoad(EnumPriorityInterface, metaclass=EnumLevelInterface):\n",
    "    # enumeration LOAD avec 2 elements EFFECTOR TOOL \n",
    "    EFFECTOR=(20, 'LOAD.EFFECTOR')\n",
    "    TOOL=(30, 'LOAD.TOOL')\n",
    "\n",
    "class ActionUnload(EnumPriorityInterface, metaclass=EnumLevelInterface):\n",
    "    EFFECTOR=(20, 'UNLOAD.EFFECTOR')\n",
    "    TOOL=(30, 'UNLOAD.TOOL')\n"
   ]
  },
  {
   "source": [
    "#### DEFINITION DES ENUMERATION INTERMEDIAIRE"
   ],
   "cell_type": "markdown",
   "metadata": {}
  },
  {
   "cell_type": "code",
   "execution_count": 115,
   "metadata": {},
   "outputs": [],
   "source": [
    "class ActionMove(Enum, metaclass=EnumLevelInterface):\n",
    "    # sous enumeration MOVE avec 2 element ARM et station\n",
    "    ARM = ActionArmMove\n",
    "    STATION = ActionStationMove\n",
    "    \n",
    "class ActionType(Enum, metaclass=EnumLevelInterface):\n",
    "    # enumeration racine avec 3 action LOAD UNLOAD MOVE WORK\n",
    "    LOAD = ActionLoad \n",
    "    UNLOAD = ActionUnload\n",
    "    MOVE = ActionMove\n",
    "    WORK = ActionWork"
   ]
  },
  {
   "source": [
    "### LA DEFINITION\n",
    "\n",
    "On intègre dans l'attribut definition un objet decrivant l'action en fonction de son type.  \n",
    "Ex : pour un objet de type MOVE.ARM.APPROACH on intègre un objet Movement décrivant le mouvement d'approche."
   ],
   "cell_type": "markdown",
   "metadata": {}
  },
  {
   "source": [
    "#### OBJET MOVEMENT\n",
    "\n",
    "L'objet Movement décris un mouvement effectué par le bras robot ou la station.  \n",
    "Il est défini par les paramêtres suivants :\n",
    "* uf : l'id de la reference userframe robot\n",
    "* ut : l'id de la reference usertool robot\n",
    "* points : la liste des points de passage qui décrivent le mouvement.\n"
   ],
   "cell_type": "markdown",
   "metadata": {}
  },
  {
   "cell_type": "code",
   "execution_count": 116,
   "metadata": {},
   "outputs": [],
   "source": [
    "class Movement:\n",
    "    def __init__(self, uf, ut, points):\n",
    "        self._uf = uf\n",
    "        self._ut = ut\n",
    "        self._points = points"
   ]
  },
  {
   "source": [
    "#### OBJET POINT\n",
    "\n",
    "L'objet Point représente un point de passage du mouvement.  \n",
    "Il est défini par les paramêtres suivants :\n",
    "* cnt : la precision de la trajectoire par rapport au point\n",
    "* speed : la vitesse du bras (en %)\n",
    "* position : objet position représentant les coordonnees du point (ou la position du bras) et les parametres du bras.\n",
    "* path : object path représentant le type de trajectoire pour atteindre le point\n"
   ],
   "cell_type": "markdown",
   "metadata": {}
  },
  {
   "cell_type": "code",
   "execution_count": 117,
   "metadata": {},
   "outputs": [],
   "source": [
    "class Point:\n",
    "    def __init__(self, cnt, speed, path, position):\n",
    "        self._cnt = cnt\n",
    "        self._speed = speed\n",
    "        self._position = position\n",
    "        self._path = path"
   ]
  },
  {
   "source": [
    "#### OBJET PATH\n",
    "\n",
    "L'objet path represente le type de trajectoire pour atteindre le point.  \n",
    "3 type sont possible :\n",
    "* CIRCULAR\n",
    "* LINEAR\n",
    "* JOINT\n",
    "\n",
    "Je definit mon objet Path sous la forme d'une enumeration avec en cle les 3 types sous le format \"human readable\" et l'instruction du programme fanuc en valeur.\n"
   ],
   "cell_type": "markdown",
   "metadata": {}
  },
  {
   "cell_type": "code",
   "execution_count": 118,
   "metadata": {},
   "outputs": [],
   "source": [
    "class Path(Enum):\n",
    "    CIRCULAR='C'\n",
    "    LINEAR='L'\n",
    "    JOINT='J'"
   ]
  },
  {
   "source": [
    "#### LES OBJETS POSITION\n",
    "\n",
    "L'objet Position représente la position du bras.  \n",
    "2 types de représentations sont possibles :\n",
    "* type JOINT : position du bras par les angles de chaque moteur (j1,j2,j3,j4,j5,j6)\n",
    "* type CARTESIAN : position du bras par les coordonnées et orientation du Tool Frame. (x,y,z,w,p,r)\n",
    "\n",
    "L'objet Position est défini par les paramêtres suivants :\n",
    "* vector : le vecteur représentant la position\n",
    "* type : type de position => JOINT ou CARTESIAN\n",
    "* config : pour le type CARTESIAN, un objet représentant la configuration du bras (null pour JOINT)\n",
    "* e1 : la position de la station sur le 7° axe\n",
    "\n",
    "Je decline cette classe Position en 2 sous classes :\n",
    "* PositionCrt : Position du bras de type CARTESIAN\n",
    "* PositionJoint : Position du bras de type JOINT\n",
    "\n",
    "Je défini le type de position sous la forme d'une enumeration avec en cle les 2 types sous le format \"human readable\" et l'instruction du programme fanuc en valeur."
   ],
   "cell_type": "markdown",
   "metadata": {}
  },
  {
   "cell_type": "code",
   "execution_count": 119,
   "metadata": {
    "collapsed": false
   },
   "outputs": [],
   "source": [
    "\n",
    "class PositionType(Enum):\n",
    "    JOINT='jnt'\n",
    "    CARTESIAN='crt'\n",
    "\n",
    "class Position:\n",
    "    def __init__(self, pvector, ptype, e1, config):\n",
    "        self._vector = pvector\n",
    "        self._type = ptype\n",
    "        self._config = config\n",
    "        self._e1 = e1\n",
    "\n",
    "class PositionCrt(Position):\n",
    "    def __init__(self, pvector, e1, config):\n",
    "        super(PositionCrt, self).__init__(pvector, PositionType.CARTESIAN, e1, config)\n",
    "    \n",
    "    def to_dict(self):\n",
    "        keys = ['x', 'y','z', 'w', 'p', 'r']\n",
    "        tl = [(keys[i], float(val)) for i, val in enumerate(self._vector.tolist())]\n",
    "        crt_dict = self.__dict__.copy()\n",
    "        crt_dict['_vector'] = dict(tl)\n",
    "        return crt_dict\n",
    "    \n",
    "    def get(self):\n",
    "        keys = ['x', 'y','z', 'w', 'p', 'r']\n",
    "        tl = [(keys[i], float(val)) for i, val in enumerate(self._vector.tolist())]\n",
    "        return {'vector':dict(tl), 'type':self._type.value, 'config':Serializer.to_dict(self._config), 'e1':float(self._e1)}\n",
    "            \n",
    "class PositionJoint(Position):\n",
    "    def __init__(self, pvector, e1):\n",
    "        super(PositionJoint, self).__init__(pvector, PositionType.JOINT, e1, None)\n",
    "    \n",
    "    def to_dict(self):\n",
    "        keys = ['j1', 'j2','j3', 'j4', 'j5', 'j6']\n",
    "        tl = [(keys[i], float(val)) for i, val in enumerate(self._vector.tolist())]\n",
    "        jnt_dict = self.__dict__.copy()\n",
    "        jnt_dict['_vector'] = dict(tl)\n",
    "        return jnt_dict\n",
    "      "
   ]
  },
  {
   "source": [
    "#### OBJET CONFIGURATION\n",
    "\n",
    "L'objet configuration représente la configuration defini (imposée) du bras pour le calcul des déplacement en mode CARTESIAN.\n",
    "Il est défini par les paramêtres suivants :\n",
    "* wrist : config du poignet => FLIP ou NOFLIP\n",
    "* forearm : config de l'avant bras => UP ou DOWN\n",
    "* arm : config du bras => TOWARD ou BACKWARD\n",
    "* j4, j5, j6 : debattement angulaire des axe j4, j5 et j6 toujours à 0 pour notre besoin\n",
    "\n",
    "Je défini la config pour chaque element (wrist, forearm, arm) sous la forme d'une enumeration avec en cle les options sous le format \"human readable\" et l'instruction du programme fanuc en valeur."
   ],
   "cell_type": "markdown",
   "metadata": {}
  },
  {
   "cell_type": "code",
   "execution_count": 120,
   "metadata": {},
   "outputs": [],
   "source": [
    "class Configuration:\n",
    "    def __init__(self, wrist, forearm, arm):\n",
    "        self._wrist = wrist\n",
    "        self._forearm = forearm\n",
    "        self._arm = arm\n",
    "        self._j4 = 0\n",
    "        self._j5 = 0\n",
    "        self._j6 = 0\n",
    "\n",
    "class WristConfig(Enum):\n",
    "    FLIP='F'\n",
    "    NOFLIP='N'\n",
    "\n",
    "class ForeArmConfig(Enum):\n",
    "    UP='U'\n",
    "    DOWN='D'\n",
    "\n",
    "class ArmConfig(Enum):\n",
    "    TOWARD='T'\n",
    "    BACKWARD='D'"
   ]
  },
  {
   "source": [
    "### CLASSE DE SERIALISATION\n",
    "\n",
    "Ma classe Serializer contient toutes les fonctions pour la [sérialisation](https://docs.microsoft.com/fr-fr/dotnet/csharp/programming-guide/concepts/serialization/#:~:text=La%20s%C3%A9rialisation%20est%20le%20processus,processus%20inverse%20est%20appel%C3%A9%20d%C3%A9s%C3%A9rialisation.) de mes objets pour un enregistrement en base ou la génération du build process.\n",
    "\n",
    "A terme, elle contiendra également les fonctions de déserialisation.\n"
   ],
   "cell_type": "markdown",
   "metadata": {}
  },
  {
   "cell_type": "code",
   "execution_count": 121,
   "metadata": {},
   "outputs": [],
   "source": [
    "class Serializer:\n",
    "    # fonction de serialisation des objets\n",
    "    @staticmethod\n",
    "    def serialize(obj, form=\"json\", database=False):\n",
    "        if(form ==\"json\"):\n",
    "            so = Serializer.to_dict(obj, database)\n",
    "            return json.dumps(so)\n",
    "    \n",
    "    @staticmethod\n",
    "    def to_dict(obj, database=False):\n",
    "        if obj.__class__.__module__ == 'builtins':\n",
    "            if type(obj) == list:\n",
    "                l=[] \n",
    "                for va in obj:\n",
    "                    l.append(Serializer.to_dict(va, database))\n",
    "                return l\n",
    "            elif type(obj) == dict:\n",
    "                d={} \n",
    "                for key, val in obj.items():\n",
    "                    k = key.replace('_','')\n",
    "                    v = Serializer.to_dict(val, database)   \n",
    "                    d[k]=v \n",
    "                return d\n",
    "            else :\n",
    "                return Serializer.__cast_val(obj)\n",
    "            \n",
    "        elif getattr(obj, 'to_dict', None):\n",
    "            return  Serializer.to_dict(obj.to_dict(), database)\n",
    "        \n",
    "        elif EnumPriorityInterface in obj.__class__.__bases__ or Enum in obj.__class__.__bases__:\n",
    "            if database : \n",
    "                return obj.name\n",
    "            else:\n",
    "                return obj.value\n",
    "        else:\n",
    "            so = {}\n",
    "            for key, val in obj.__dict__.items():\n",
    "                k = key.replace('_','')\n",
    "                v = Serializer.to_dict(val, database)   \n",
    "                so[k]=v\n",
    "            return so\n",
    "        \n",
    "        \n",
    "    @staticmethod\n",
    "    def __cast_val(val):\n",
    "        if isinstance(val, str) and val.isnumeric():\n",
    "            return int(val) if val.isdecimal() else float(val)\n",
    "        else:\n",
    "            return val"
   ]
  },
  {
   "cell_type": "markdown",
   "metadata": {},
   "source": [
    "## MISE EN APPLICATION \n",
    "\n",
    "### Creation d'une Action en manuel\n",
    "\n",
    "Definition d'un déplacement de type work sur le point id en6115v2-3.305.\n",
    "Et serialisation pour enregistrement en database\n",
    "\n",
    "Rappel du xml :\n",
    "```xml\n",
    "<Phase id=\"4\" Type=\"position\" Info=\"Drill\" FastName=\"en6115V2-3.305\" Mode=\"crt\">\n",
    "                <Point id=\"1\" UT=\"2\" UF=\"1\" X=\"751.5\" Y=\"1987\" Z=\"-57.75\" W=\"-180\" P=\"0\" R=\"-70\" E1=\"1538\" t4=\"0\" t5=\"0\" t6=\"0\" front=\"true\" up=\"true\" left=\"false\" flip=\"true\" type=\"linear\" speed=\"100\" approx=\"fine\" cnt=\"100\" />\n",
    "            </Phase>\n",
    "```\n"
   ]
  },
  {
   "cell_type": "code",
   "execution_count": 122,
   "metadata": {},
   "outputs": [],
   "source": [
    "# Definition de la position du bras\n",
    "vector = np.array((751.5, 1987,-57.75,-180, 0.0, -70)) # vecteur de position  \n",
    "e1 = 1538.0 # position 7 axe\n",
    "config = Configuration( \n",
    "    WristConfig.FLIP,\n",
    "    ForeArmConfig.UP,\n",
    "    ArmConfig.TOWARD\n",
    ") #config FUT 000\n",
    "\n",
    "# definition d'un objet position type Cartesian\n",
    "position = PositionCrt(vector, e1, config) \n",
    "\n",
    "# definition du point de passage \n",
    "\n",
    "cnt = 100 # precision 100\n",
    "speed = 100 # vitesse 100%\n",
    "path = Path.LINEAR # forme trajectoire\n",
    "point = Point(cnt, speed, path, position)\n",
    "\n",
    "# definition du mouvement\n",
    "\n",
    "ut = 1 # user tool id\n",
    "uf = 1 # user frame id\n",
    "movement = Movement(ut, uf, [point]) \n",
    "\n",
    "# definition de l'action\n",
    "action_id = 'XXXX'\n",
    "action_type =  ActionType['MOVE']['ARM']['WORK']\n",
    "action_desc = 'move to fastener en6115v2-3.305'\n",
    "action_dependencies = []\n",
    "action_next = []\n",
    "\n",
    "action = Action(action_id, action_type, movement, action_desc, action_dependencies, action_next)"
   ]
  },
  {
   "cell_type": "code",
   "execution_count": 123,
   "metadata": {},
   "outputs": [
    {
     "output_type": "stream",
     "name": "stdout",
     "text": [
      "{'definition': {'points': [{'cnt': 100,\n                            'path': 'LINEAR',\n                            'position': {'config': {'arm': 'TOWARD',\n                                                    'forearm': 'UP',\n                                                    'j4': 0,\n                                                    'j5': 0,\n                                                    'j6': 0,\n                                                    'wrist': 'FLIP'},\n                                         'e1': 1538.0,\n                                         'type': 'CARTESIAN',\n                                         'vector': {'p': 0.0,\n                                                    'r': -70.0,\n                                                    'w': -180.0,\n                                                    'x': 751.5,\n                                                    'y': 1987.0,\n                                                    'z': -57.75}},\n                            'speed': 100}],\n                'uf': 1,\n                'ut': 1},\n 'dependencies': [],\n 'description': 'move to fastener en6115v2-3.305',\n 'id': 'XXXX',\n 'next': [],\n 'type': 'MOVE.ARM.WORK'}\n"
     ]
    }
   ],
   "source": [
    "# affichage de la version serialise pour enregistrement en database\n",
    "pprint.pprint(Serializer.to_dict(action, database=True))"
   ]
  },
  {
   "cell_type": "markdown",
   "metadata": {},
   "source": [
    "### Creation d'une liste d'action à partir du xml existant\n",
    "\n",
    "Definition de la liste d'actions décrivant les phases d'approche, work et clearance pour la premiere station du fichier xml."
   ]
  },
  {
   "source": [
    "#### Definition des fonctions de parsing"
   ],
   "cell_type": "markdown",
   "metadata": {}
  },
  {
   "cell_type": "code",
   "execution_count": 124,
   "metadata": {
    "collapsed": false
   },
   "outputs": [],
   "source": [
    "def getPath(xml_path):\n",
    "    path = None\n",
    "    if xml_path ==\"linear\":\n",
    "        path = Path.LINEAR\n",
    "    elif xml_path == \"joint\":\n",
    "        path = Path.JOINT\n",
    "    else:\n",
    "        path = Path.CIRCULAR\n",
    "    return path\n",
    "\n",
    "\n",
    "#vecteur de position\n",
    "def getMovementFromXMLPhases(bsxml_phase):\n",
    "    \n",
    "    #get phase attributes\n",
    "    phat = bsxml_phase.attrs\n",
    "    \n",
    "    #get bs points \n",
    "    points = bsxml_phase.find_all('point')\n",
    "    \n",
    "    ps=[]\n",
    "    uf = points[0].attrs.get('uf')\n",
    "    ut = points[0].attrs.get('ut')\n",
    "    \n",
    "    for p in points:\n",
    "        ps.append(getPointFromXMLPoint(p, phat['mode']))\n",
    "\n",
    "    return Movement(uf, ut, ps)\n",
    "\n",
    "\n",
    "def getPointFromXMLPoint(point, pos_type):\n",
    "    \n",
    "    poat = point.attrs\n",
    "    path = getPath(poat['type'])\n",
    "    \n",
    "    cnt = poat.get('cnt')\n",
    "    speed = poat.get('speed')\n",
    "    \n",
    "    vector = np.array([\n",
    "            poat['x'],\n",
    "            poat['y'],\n",
    "            poat['z'],\n",
    "            poat['w'],\n",
    "            poat['p'],\n",
    "            poat['r']])\n",
    "\n",
    "    config = None\n",
    "    \n",
    "    if poat.get(\"front\") and poat.get(\"up\") and poat.get(\"left\") and poat.get(\"flip\"):\n",
    "        config = Configuration(WristConfig.FLIP if bool(poat.get(\"flip\")) else WristConfig.NOFLIP,\n",
    "                               ForeArmConfig.UP if bool(poat.get(\"up\")) else ForeArmConfig.DOWN,\n",
    "                               ArmConfig.TOWARD if bool(poat.get(\"front\")) else ArmConfig.BACKWARD\n",
    "                               )\n",
    "\n",
    "    e1 = poat.get('e1')\n",
    "\n",
    "    if pos_type ==\"joint\":\n",
    "        position = PositionJoint(vector, e1)\n",
    "    elif pos_type == 'crt':\n",
    "        position = PositionCrt(vector, e1, config)\n",
    "    else :\n",
    "        position = None\n",
    "    \n",
    "    return Point(cnt, speed, path, position)\n",
    "    \n",
    "\n",
    "def getActionFromXMLStation(bsxml_station):\n",
    "    \n",
    "    actions = []\n",
    "    phases = bsxml_station.find_all('phase')\n",
    "    \n",
    "    for p in phases:\n",
    "        mov = getMovementFromXMLPhases(p)\n",
    "        if p.attrs['info'] == 'Approach':\n",
    "            atype = ActionType['MOVE']['ARM']['APPROACH']\n",
    "        elif p.attrs['info'] == 'Clearance':\n",
    "            atype = ActionType['MOVE']['ARM']['CLEARANCE']\n",
    "        elif p.attrs['info'] == 'Drill':\n",
    "            atype = ActionType['MOVE']['ARM']['WORK']\n",
    "        else:\n",
    "            assert \"action type error\"\n",
    "\n",
    "        actions.append(Action(0, atype, mov, p.attrs['info'], [], [])) \n",
    "        #id, atype, definition, description, dependencies, anext\n",
    "        \n",
    "    return actions\n",
    "    "
   ]
  },
  {
   "source": [
    "#### Parsing du XML et creation de la liste d'actions"
   ],
   "cell_type": "markdown",
   "metadata": {}
  },
  {
   "cell_type": "code",
   "execution_count": 125,
   "metadata": {
    "collapsed": true
   },
   "outputs": [],
   "source": [
    "# lecture du fichier\n",
    "with open('./data/BuildProcess.xml', 'r') as f:\n",
    "    txt = f.readlines()\n",
    "    txt = ''.join(txt)\n",
    "\n",
    "xbp = bs4.BeautifulSoup(txt, 'lxml') # parsing du xml avec bs\n",
    "steps = xbp.find_all('step') # recuperation de la liste des steps\n",
    "stations = steps[0].find_all('station') # recuperation des station du step 1\n",
    "\n",
    "la = getActionFromXMLStation(stations[0]) # definition de la liste des actions en utilisant la fonction de parsing"
   ]
  },
  {
   "source": [
    "#### Serialisation "
   ],
   "cell_type": "markdown",
   "metadata": {}
  },
  {
   "cell_type": "code",
   "execution_count": 126,
   "metadata": {
    "tags": []
   },
   "outputs": [
    {
     "output_type": "execute_result",
     "data": {
      "text/plain": [
       "'[{\"id\": 0, \"type\": \"MOVE.ARM.APPROACH\", \"definition\": {\"uf\": 1, \"ut\": 1, \"points\": [{\"cnt\": 100, \"speed\": 100, \"position\": {\"vector\": {\"j1\": 0.0, \"j2\": 25.0, \"j3\": -40.0, \"j4\": 0.0, \"j5\": 113.0, \"j6\": 0.0}, \"type\": \"JOINT\", \"config\": null, \"e1\": 700}, \"path\": \"JOINT\"}, {\"cnt\": 100, \"speed\": 100, \"position\": {\"vector\": {\"j1\": 20.0, \"j2\": 35.0, \"j3\": -30.0, \"j4\": -40.0, \"j5\": 105.0, \"j6\": 90.0}, \"type\": \"JOINT\", \"config\": null, \"e1\": 700}, \"path\": \"JOINT\"}, {\"cnt\": 100, \"speed\": 100, \"position\": {\"vector\": {\"j1\": 40.0, \"j2\": 45.0, \"j3\": -15.0, \"j4\": -60.0, \"j5\": 105.0, \"j6\": 90.0}, \"type\": \"JOINT\", \"config\": null, \"e1\": 700}, \"path\": \"JOINT\"}, {\"cnt\": 100, \"speed\": 100, \"position\": {\"vector\": {\"j1\": 60.0, \"j2\": 60.0, \"j3\": -10.0, \"j4\": -80.0, \"j5\": 60.0, \"j6\": 110.0}, \"type\": \"JOINT\", \"config\": null, \"e1\": 700}, \"path\": \"JOINT\"}, {\"cnt\": 100, \"speed\": 100, \"position\": {\"vector\": {\"j1\": 60.0, \"j2\": 53.0, \"j3\": -2.0, \"j4\": -92.0, \"j5\": 47.0, \"j6\": 137.0}, \"type\": \"JOINT\", \"config\": null, \"e1\": 700}, \"path\": \"JOINT\"}, {\"cnt\": 100, \"speed\": 100, \"position\": {\"vector\": {\"j1\": 60.1, \"j2\": 53.2, \"j3\": -2.0, \"j4\": -120.0, \"j5\": 25.0, \"j6\": 150.0}, \"type\": \"JOINT\", \"config\": null, \"e1\": 700}, \"path\": \"JOINT\"}, {\"cnt\": 100, \"speed\": 100, \"position\": {\"vector\": {\"j1\": 60.1, \"j2\": 53.2, \"j3\": -5.6, \"j4\": -169.0, \"j5\": 24.9, \"j6\": 222.0}, \"type\": \"JOINT\", \"config\": null, \"e1\": 700}, \"path\": \"JOINT\"}, {\"cnt\": 100, \"speed\": 100, \"position\": {\"vector\": {\"j1\": 57.9, \"j2\": 57.9, \"j3\": -6.9, \"j4\": -173.1, \"j5\": 23.3, \"j6\": 226.9}, \"type\": \"JOINT\", \"config\": null, \"e1\": 700}, \"path\": \"JOINT\"}]}, \"dependencies\": [], \"next\": [], \"description\": \"Approach\"}, {\"id\": 0, \"type\": \"MOVE.ARM.WORK\", \"definition\": {\"uf\": 1, \"ut\": 1, \"points\": [{\"cnt\": 100, \"speed\": 100, \"position\": {\"vector\": {\"x\": 810.3, \"y\": 1360.0, \"z\": -27.1, \"w\": 90.0, \"p\": -90.0, \"r\": 0.0}, \"type\": \"CARTESIAN\", \"config\": {\"wrist\": \"FLIP\", \"forearm\": \"UP\", \"arm\": \"TOWARD\", \"j4\": 0, \"j5\": 0, \"j6\": 0}, \"e1\": 700}, \"path\": \"LINEAR\"}]}, \"dependencies\": [], \"next\": [], \"description\": \"Drill\"}, {\"id\": 0, \"type\": \"MOVE.ARM.WORK\", \"definition\": {\"uf\": 1, \"ut\": 1, \"points\": [{\"cnt\": 100, \"speed\": 100, \"position\": {\"vector\": {\"x\": 798.3, \"y\": 1360.0, \"z\": -46.6, \"w\": 90.0, \"p\": -90.0, \"r\": 0.0}, \"type\": \"CARTESIAN\", \"config\": {\"wrist\": \"FLIP\", \"forearm\": \"UP\", \"arm\": \"TOWARD\", \"j4\": 0, \"j5\": 0, \"j6\": 0}, \"e1\": 700}, \"path\": \"LINEAR\"}]}, \"dependencies\": [], \"next\": [], \"description\": \"Drill\"}, {\"id\": 0, \"type\": \"MOVE.ARM.WORK\", \"definition\": {\"uf\": 1, \"ut\": 1, \"points\": [{\"cnt\": 100, \"speed\": 100, \"position\": {\"vector\": {\"x\": 786.3, \"y\": 1360.0, \"z\": -27.1, \"w\": 90.0, \"p\": -90.0, \"r\": 0.0}, \"type\": \"CARTESIAN\", \"config\": {\"wrist\": \"FLIP\", \"forearm\": \"UP\", \"arm\": \"TOWARD\", \"j4\": 0, \"j5\": 0, \"j6\": 0}, \"e1\": 700}, \"path\": \"LINEAR\"}]}, \"dependencies\": [], \"next\": [], \"description\": \"Drill\"}, {\"id\": 0, \"type\": \"MOVE.ARM.WORK\", \"definition\": {\"uf\": 1, \"ut\": 1, \"points\": [{\"cnt\": 100, \"speed\": 100, \"position\": {\"vector\": {\"x\": 774.3, \"y\": 1360.0, \"z\": -46.6, \"w\": 90.0, \"p\": -90.0, \"r\": 0.0}, \"type\": \"CARTESIAN\", \"config\": {\"wrist\": \"FLIP\", \"forearm\": \"UP\", \"arm\": \"TOWARD\", \"j4\": 0, \"j5\": 0, \"j6\": 0}, \"e1\": 700}, \"path\": \"LINEAR\"}]}, \"dependencies\": [], \"next\": [], \"description\": \"Drill\"}, {\"id\": 0, \"type\": \"MOVE.ARM.WORK\", \"definition\": {\"uf\": 1, \"ut\": 1, \"points\": [{\"cnt\": 100, \"speed\": 100, \"position\": {\"vector\": {\"x\": 762.3, \"y\": 1360.0, \"z\": -27.1, \"w\": 90.0, \"p\": -90.0, \"r\": 0.0}, \"type\": \"CARTESIAN\", \"config\": {\"wrist\": \"FLIP\", \"forearm\": \"UP\", \"arm\": \"TOWARD\", \"j4\": 0, \"j5\": 0, \"j6\": 0}, \"e1\": 700}, \"path\": \"LINEAR\"}]}, \"dependencies\": [], \"next\": [], \"description\": \"Drill\"}, {\"id\": 0, \"type\": \"MOVE.ARM.WORK\", \"definition\": {\"uf\": 1, \"ut\": 1, \"points\": [{\"cnt\": 100, \"speed\": 100, \"position\": {\"vector\": {\"x\": 750.3, \"y\": 1360.0, \"z\": -46.6, \"w\": 90.0, \"p\": -90.0, \"r\": 0.0}, \"type\": \"CARTESIAN\", \"config\": {\"wrist\": \"FLIP\", \"forearm\": \"UP\", \"arm\": \"TOWARD\", \"j4\": 0, \"j5\": 0, \"j6\": 0}, \"e1\": 700}, \"path\": \"LINEAR\"}]}, \"dependencies\": [], \"next\": [], \"description\": \"Drill\"}, {\"id\": 0, \"type\": \"MOVE.ARM.WORK\", \"definition\": {\"uf\": 1, \"ut\": 1, \"points\": [{\"cnt\": 100, \"speed\": 100, \"position\": {\"vector\": {\"x\": 738.3, \"y\": 1360.0, \"z\": -27.1, \"w\": 90.0, \"p\": -90.0, \"r\": 0.0}, \"type\": \"CARTESIAN\", \"config\": {\"wrist\": \"FLIP\", \"forearm\": \"UP\", \"arm\": \"TOWARD\", \"j4\": 0, \"j5\": 0, \"j6\": 0}, \"e1\": 700}, \"path\": \"LINEAR\"}]}, \"dependencies\": [], \"next\": [], \"description\": \"Drill\"}, {\"id\": 0, \"type\": \"MOVE.ARM.WORK\", \"definition\": {\"uf\": 1, \"ut\": 1, \"points\": [{\"cnt\": 100, \"speed\": 100, \"position\": {\"vector\": {\"x\": 726.3, \"y\": 1360.0, \"z\": -45.1, \"w\": 90.0, \"p\": -90.0, \"r\": 0.0}, \"type\": \"CARTESIAN\", \"config\": {\"wrist\": \"FLIP\", \"forearm\": \"UP\", \"arm\": \"TOWARD\", \"j4\": 0, \"j5\": 0, \"j6\": 0}, \"e1\": 700}, \"path\": \"LINEAR\"}]}, \"dependencies\": [], \"next\": [], \"description\": \"Drill\"}, {\"id\": 0, \"type\": \"MOVE.ARM.WORK\", \"definition\": {\"uf\": 1, \"ut\": 1, \"points\": [{\"cnt\": 100, \"speed\": 100, \"position\": {\"vector\": {\"x\": 714.3, \"y\": 1360.0, \"z\": -27.1, \"w\": 90.0, \"p\": -90.0, \"r\": 0.0}, \"type\": \"CARTESIAN\", \"config\": {\"wrist\": \"FLIP\", \"forearm\": \"UP\", \"arm\": \"TOWARD\", \"j4\": 0, \"j5\": 0, \"j6\": 0}, \"e1\": 700}, \"path\": \"LINEAR\"}]}, \"dependencies\": [], \"next\": [], \"description\": \"Drill\"}, {\"id\": 0, \"type\": \"MOVE.ARM.WORK\", \"definition\": {\"uf\": 1, \"ut\": 1, \"points\": [{\"cnt\": 100, \"speed\": 100, \"position\": {\"vector\": {\"x\": 702.3, \"y\": 1360.0, \"z\": -45.1, \"w\": 90.0, \"p\": -90.0, \"r\": 0.0}, \"type\": \"CARTESIAN\", \"config\": {\"wrist\": \"FLIP\", \"forearm\": \"UP\", \"arm\": \"TOWARD\", \"j4\": 0, \"j5\": 0, \"j6\": 0}, \"e1\": 700}, \"path\": \"LINEAR\"}]}, \"dependencies\": [], \"next\": [], \"description\": \"Drill\"}, {\"id\": 0, \"type\": \"MOVE.ARM.WORK\", \"definition\": {\"uf\": 1, \"ut\": 1, \"points\": [{\"cnt\": 100, \"speed\": 100, \"position\": {\"vector\": {\"x\": 690.3, \"y\": 1360.0, \"z\": -27.1, \"w\": 90.0, \"p\": -90.0, \"r\": 0.0}, \"type\": \"CARTESIAN\", \"config\": {\"wrist\": \"FLIP\", \"forearm\": \"UP\", \"arm\": \"TOWARD\", \"j4\": 0, \"j5\": 0, \"j6\": 0}, \"e1\": 700}, \"path\": \"LINEAR\"}]}, \"dependencies\": [], \"next\": [], \"description\": \"Drill\"}, {\"id\": 0, \"type\": \"MOVE.ARM.CLEARANCE\", \"definition\": {\"uf\": 1, \"ut\": 1, \"points\": [{\"cnt\": 100, \"speed\": 100, \"position\": {\"vector\": {\"j1\": 57.9, \"j2\": 57.9, \"j3\": -6.9, \"j4\": -173.1, \"j5\": 23.3, \"j6\": 226.9}, \"type\": \"JOINT\", \"config\": null, \"e1\": 700}, \"path\": \"JOINT\"}, {\"cnt\": 100, \"speed\": 100, \"position\": {\"vector\": {\"j1\": 60.1, \"j2\": 53.2, \"j3\": -5.6, \"j4\": -169.0, \"j5\": 24.9, \"j6\": 222.0}, \"type\": \"JOINT\", \"config\": null, \"e1\": 700}, \"path\": \"JOINT\"}, {\"cnt\": 100, \"speed\": 100, \"position\": {\"vector\": {\"j1\": 60.1, \"j2\": 53.2, \"j3\": -2.0, \"j4\": -120.0, \"j5\": 25.0, \"j6\": 150.0}, \"type\": \"JOINT\", \"config\": null, \"e1\": 700}, \"path\": \"JOINT\"}, {\"cnt\": 100, \"speed\": 100, \"position\": {\"vector\": {\"j1\": 60.0, \"j2\": 53.0, \"j3\": -2.0, \"j4\": -92.0, \"j5\": 47.0, \"j6\": 137.0}, \"type\": \"JOINT\", \"config\": null, \"e1\": 700}, \"path\": \"JOINT\"}, {\"cnt\": 100, \"speed\": 100, \"position\": {\"vector\": {\"j1\": 60.0, \"j2\": 60.0, \"j3\": -10.0, \"j4\": -80.0, \"j5\": 60.0, \"j6\": 110.0}, \"type\": \"JOINT\", \"config\": null, \"e1\": 700}, \"path\": \"JOINT\"}, {\"cnt\": 100, \"speed\": 100, \"position\": {\"vector\": {\"j1\": 40.0, \"j2\": 45.0, \"j3\": -15.0, \"j4\": -60.0, \"j5\": 105.0, \"j6\": 90.0}, \"type\": \"JOINT\", \"config\": null, \"e1\": 700}, \"path\": \"JOINT\"}, {\"cnt\": 100, \"speed\": 100, \"position\": {\"vector\": {\"j1\": 20.0, \"j2\": 35.0, \"j3\": -30.0, \"j4\": -40.0, \"j5\": 105.0, \"j6\": 90.0}, \"type\": \"JOINT\", \"config\": null, \"e1\": 700}, \"path\": \"JOINT\"}, {\"cnt\": 100, \"speed\": 100, \"position\": {\"vector\": {\"j1\": 0.0, \"j2\": 25.0, \"j3\": -40.0, \"j4\": 0.0, \"j5\": 113.0, \"j6\": 0.0}, \"type\": \"JOINT\", \"config\": null, \"e1\": 700}, \"path\": \"JOINT\"}]}, \"dependencies\": [], \"next\": [], \"description\": \"Clearance\"}]'"
      ]
     },
     "metadata": {},
     "execution_count": 126
    }
   ],
   "source": [
    "\n",
    "# serialisation des actions (sur les 5 premiere)\n",
    "Serializer.serialize(la, database=True)"
   ]
  },
  {
   "source": [
    "## CONSTRUCTION DU BUILD PROCESS"
   ],
   "cell_type": "markdown",
   "metadata": {}
  },
  {
   "source": [
    "Pour la construction du build process j'utilise un algorithme de construction d'arbre (Tree).  \n",
    "\n",
    "Dans l'environnement python, j'utilise ***[treelib](https://treelib.readthedocs.io/en/latest/index.html)***."
   ],
   "cell_type": "markdown",
   "metadata": {}
  },
  {
   "cell_type": "code",
   "execution_count": 127,
   "metadata": {},
   "outputs": [],
   "source": [
    "from treelib import Tree, Node, plugins # import des Objets de treelib"
   ]
  },
  {
   "source": [
    "**Cet algorithmes de construction d'arbres reposent sur 2 objets principaux :\n",
    "* objet Tree => l'arbre\n",
    "* objet Node => les noeuds de l'arbre\n",
    "\n",
    "Pour chaque noeud intégré dans l'arbre, on défini noeuds parent.\n",
    "Cette relation parent/enfants entre les noeuds nous permet de creer des arborescences de noeuds.\n",
    "\n",
    "Couplé au système de dépendances, cet algorithme va me permettre de définir, pour effectuer l'opération ciblé (ex : Drilling en6115v2-3.305), une arborescence d'actions représentant l'arbre de construction du build process.\n",
    "\n",
    "Donc pour une operation ciblé (ex : Drilling en6115v2-3.305), voici les étapes de construction du build process :\n",
    "* récupérer l'action qui represente l'operation (en database).\n",
    "* lister ses dépendances et les dépendances de ses dépendances.\n",
    "* trier les action par priorité (lié au type d'action => changement station > movement d'approche).\n",
    "* ajouter un noeud pour chaque actions dans un arbre, les dependances de l'actions representent les parents du noeuds (plus ou moins grand en fonction de la priorité)\n",
    "* construire le build process (serialisation) suivant l'arbre obtenu.\n"
   ],
   "cell_type": "markdown",
   "metadata": {}
  },
  {
   "source": [
    "### DEFINITION DES OBJETS\n",
    "\n",
    "Pour notre besoin je vais definir :\n",
    "* un object custo ActionNode qui herite de treelib.Node représentant un Noeuds contenant une actions\n",
    "* un objet custo ActionTree qui herite de l'objet treelib.Tree représentant un Arbre d'actions. "
   ],
   "cell_type": "markdown",
   "metadata": {}
  },
  {
   "cell_type": "code",
   "execution_count": 157,
   "metadata": {},
   "outputs": [],
   "source": [
    "import operator"
   ]
  },
  {
   "cell_type": "code",
   "execution_count": 341,
   "metadata": {},
   "outputs": [],
   "source": [
    "\n",
    "class ActionNode(Node):\n",
    "    # ActionNode, herite de Node\n",
    "    def __init__(self, action=None):\n",
    "        super(ActionNode, self).__init__(action.description if action else 'root', action.id if action else 0, data=action)\n",
    "    \n",
    "    def __lt__(self, node):\n",
    "        return True if self.priority > node.priority else False\n",
    "\n",
    "    def __gt__(self, node):\n",
    "        return True if self.priority < node.priority else False\n",
    "    \n",
    "    def __eq__(self, node):\n",
    "        return True if self.priority == node.priority else False\n",
    "    \n",
    "    @property\n",
    "    def priority(self):\n",
    "        if self.data:\n",
    "            return self.data.priority\n",
    "        else:\n",
    "            return 0\n",
    "            \n",
    "class ActionTree(Tree):\n",
    "    \n",
    "    def __init__(self):\n",
    "        super(ActionTree, self).__init__()\n",
    "        self.add_node(ActionNode())\n",
    "\n",
    "\n",
    "    def add_action_node(self, action_node, parent):\n",
    "        if not self.contains(action_node.identifier):\n",
    "            self.add_node(action_node, parent = parent)\n",
    "\n",
    "    def add_actions(self, actions):\n",
    "        current = self.get_node(0)\n",
    "        action_nodes = [ActionNode(an) for an in actions]\n",
    "        \n",
    "        for an in action_nodes:\n",
    "            parent = self.__getParent(an , current)\n",
    "            self.add_action_node(an, parent)\n",
    "            current = an\n",
    "\n",
    "    def __getParent(self, actual_node, previous_node):\n",
    "        \n",
    "        if actual_node == previous_node:\n",
    "            parent = self.parent(previous_node.identifier)\n",
    "\n",
    "        elif actual_node < previous_node:\n",
    "            parent = previous_node\n",
    "\n",
    "        else:\n",
    "            parent = self.__getParent(actual_node, self.parent(previous_node.identifier))\n",
    "                \n",
    "        return parent\n",
    "        \n",
    "    \n",
    "\n",
    "class Dependencies:  \n",
    "    @staticmethod\n",
    "    def listDependances(action):\n",
    "        alist = Dependencies.__listDependances(action, action.priority)\n",
    "        alist.sort(key=lambda item : item[0])\n",
    "        return [a[1] for a in alist]\n",
    "        #return alist\n",
    "    \n",
    "    @staticmethod\n",
    "    def __listDependances(action, dn=0):\n",
    "        alist = [(dn, action)]\n",
    "        for a in action.dependencies:\n",
    "            alist.extend(Dependencies.__listDependances(a, a.priority))\n",
    "        for a in action.next:\n",
    "            alist.extend(Dependencies.__listDependances(a, 9999-a.priority))\n",
    "        return alist\n",
    "    "
   ]
  },
  {
   "source": [
    "### MISE EN APPLICATION"
   ],
   "cell_type": "markdown",
   "metadata": {}
  },
  {
   "source": [
    "#### Definition de l'action de drilling"
   ],
   "cell_type": "markdown",
   "metadata": {}
  },
  {
   "cell_type": "code",
   "execution_count": 342,
   "metadata": {},
   "outputs": [],
   "source": [
    "# definition de l'action de drilling\n",
    "\n",
    "action_id = '1234'\n",
    "action_type =  ActionType['WORK']['DRILL']\n",
    "action_desc = 'drill fastener asna2392-3-04.178'\n",
    "drill = Action(action_id, action_type, {}, action_desc)"
   ]
  },
  {
   "source": [
    "#### Definition de l'action de mouvement work \n",
    "\n",
    "L'action est defini par le xml suivant :\n",
    "\n",
    "```xml \n",
    "<Phase id=\"2\" Type=\"position\" Info=\"Drill\" FastName=\"asna2392-3-04.178\" Mode=\"crt\">\n",
    "                <Point id=\"1\" UT=\"1\" UF=\"1\" X=\"810.3\" Y=\"1360\" Z=\"-27.1\" W=\"90\" P=\"-90\" R=\"0\" E1=\"700\" t4=\"0\" t5=\"0\" t6=\"0\" front=\"true\" up=\"true\" left=\"false\" flip=\"true\" type=\"linear\" speed=\"100\" approx=\"fine\" cnt=\"100\" />\n",
    "            </Phase>\n",
    "```        "
   ],
   "cell_type": "markdown",
   "metadata": {}
  },
  {
   "cell_type": "code",
   "execution_count": 368,
   "metadata": {},
   "outputs": [],
   "source": [
    "# definition de l'action de mouvement\n",
    "\n",
    "txt_mvt = '<Phase id=\"2\" Type=\"position\" Info=\"Drill\" FastName=\"asna2392-3-04.178\" Mode=\"crt\"><Point id=\"1\" UT=\"1\" UF=\"1\" X=\"810.3\" Y=\"1360\" Z=\"-27.1\" W=\"90\" P=\"-90\" R=\"0\" E1=\"700\" t4=\"0\" t5=\"0\" t6=\"0\" front=\"true\" up=\"true\" left=\"false\" flip=\"true\" type=\"linear\" speed=\"100\" approx=\"fine\" cnt=\"100\" /></Phase>'\n",
    "\n",
    "mvt_parse= bs4.BeautifulSoup(txt_mvt, 'lxml')\n",
    "work_mvt = getMovementFromXMLPhases(mvt_parse.phase)\n",
    "work_action = Action('5678', ActionType['MOVE']['ARM']['WORK'], work_mvt, 'move to fastener asna2392-3-04.178')\n"
   ]
  },
  {
   "source": [
    "#### Definition de l'action de mouvement approach"
   ],
   "cell_type": "markdown",
   "metadata": {}
  },
  {
   "cell_type": "code",
   "execution_count": 369,
   "metadata": {},
   "outputs": [],
   "source": [
    "txt_mvt = '<Phase id=\"1\" Type=\"position\" Info=\"Approach\" Mode=\"joint\"><Point id=\"1\" UF=\"1\" UT=\"1\" X=\"0\" Y=\"25\" Z=\"-40\" W=\"0\" P=\"113\" R=\"0\" E1=\"700\" type=\"joint\" speed=\"100\" approx=\"cnt\" cnt=\"100\" /><Point id=\"2\" UF=\"1\" UT=\"1\" X=\"20\" Y=\"35\" Z=\"-30\" W=\"-40\" P=\"105\" R=\"90\" E1=\"700\" type=\"joint\" speed=\"100\" approx=\"cnt\" cnt=\"100\" /><Point id=\"3\" UF=\"1\" UT=\"1\" X=\"40\" Y=\"45\" Z=\"-15\" W=\"-60\" P=\"105\" R=\"90\" E1=\"700\" type=\"joint\" speed=\"100\" approx=\"cnt\" cnt=\"100\" /><Point id=\"4\" UF=\"1\" UT=\"1\" X=\"60\" Y=\"60\" Z=\"-10\" W=\"-80\" P=\"60\" R=\"110\" E1=\"700\" type=\"joint\" speed=\"100\" approx=\"cnt\" cnt=\"100\" /><Point id=\"5\" UF=\"1\" UT=\"1\" X=\"60\" Y=\"53\" Z=\"-2\" W=\"-92\" P=\"47\" R=\"137\" E1=\"700\" type=\"joint\" speed=\"100\" approx=\"cnt\" cnt=\"100\" /><Point id=\"6\" UF=\"1\" UT=\"1\" X=\"60.1\" Y=\"53.2\" Z=\"-2\" W=\"-120\" P=\"25\" R=\"150\" E1=\"700\" type=\"joint\" speed=\"100\" approx=\"cnt\" cnt=\"100\" /><Point id=\"7\" UF=\"1\" UT=\"1\" X=\"60.1\" Y=\"53.2\" Z=\"-5.6\" W=\"-169\" P=\"24.9\" R=\"222\" E1=\"700\" type=\"joint\" speed=\"100\" approx=\"fine\" cnt=\"100\" /><Point id=\"8\" UF=\"1\" UT=\"1\" X=\"57.9\" Y=\"57.9\" Z=\"-6.9\" W=\"-173.1\" P=\"23.3\" R=\"226.9\" E1=\"700\" type=\"joint\" speed=\"100\" approx=\"fine\" cnt=\"100\" /></Phase>'\n",
    "\n",
    "mvt_parse= bs4.BeautifulSoup(txt_mvt, 'lxml')\n",
    "approach_mvt = getMovementFromXMLPhases(mvt_parse.phase)\n",
    "approach_action = Action('9101', ActionType['MOVE']['ARM']['APPROACH'], approach_mvt, 'approach move')\n"
   ]
  },
  {
   "source": [
    "Definition de l'action de mouvement clearance"
   ],
   "cell_type": "markdown",
   "metadata": {}
  },
  {
   "cell_type": "code",
   "execution_count": 370,
   "metadata": {},
   "outputs": [],
   "source": [
    "txt_mvt = '<Phase id=\"13\" Type=\"position\" Info=\"Clearance\" Mode=\"joint\"><Point id=\"1\" UF=\"1\" UT=\"1\" X=\"57.9\" Y=\"57.9\" Z=\"-6.9\" W=\"-173.1\" P=\"23.3\" R=\"226.9\" E1=\"700\" type=\"joint\" speed=\"100\" approx=\"fine\" cnt=\"100\" /><Point id=\"2\" UF=\"1\" UT=\"1\" X=\"60.1\" Y=\"53.2\" Z=\"-5.6\" W=\"-169\" P=\"24.9\" R=\"222\" E1=\"700\" type=\"joint\" speed=\"100\" approx=\"fine\" cnt=\"100\" /><Point id=\"3\" UF=\"1\" UT=\"1\" X=\"60.1\" Y=\"53.2\" Z=\"-2\" W=\"-120\" P=\"25\" R=\"150\" E1=\"700\" type=\"joint\" speed=\"100\" approx=\"cnt\" cnt=\"100\" /><Point id=\"4\" UF=\"1\" UT=\"1\" X=\"60\" Y=\"53\" Z=\"-2\" W=\"-92\" P=\"47\" R=\"137\" E1=\"700\" type=\"joint\" speed=\"100\" approx=\"cnt\" cnt=\"100\" /><Point id=\"5\" UF=\"1\" UT=\"1\" X=\"60\" Y=\"60\" Z=\"-10\" W=\"-80\" P=\"60\" R=\"110\" E1=\"700\" type=\"joint\" speed=\"100\" approx=\"cnt\" cnt=\"100\" /><Point id=\"6\" UF=\"1\" UT=\"1\" X=\"40\" Y=\"45\" Z=\"-15\" W=\"-60\" P=\"105\" R=\"90\" E1=\"700\" type=\"joint\" speed=\"100\" approx=\"cnt\" cnt=\"100\" /><Point id=\"7\" UF=\"1\" UT=\"1\" X=\"20\" Y=\"35\" Z=\"-30\" W=\"-40\" P=\"105\" R=\"90\" E1=\"700\" type=\"joint\" speed=\"100\" approx=\"cnt\" cnt=\"100\" /><Point id=\"8\" UF=\"1\" UT=\"1\" X=\"0\" Y=\"25\" Z=\"-40\" W=\"0\" P=\"113\" R=\"0\" E1=\"700\" type=\"joint\" speed=\"100\" approx=\"cnt\" cnt=\"100\" /></Phase>'\n",
    "\n",
    "mvt_parse= bs4.BeautifulSoup(txt_mvt, 'lxml')\n",
    "clearance_mvt = getMovementFromXMLPhases(mvt_parse.phase)\n",
    "clearance_action = Action('1112', ActionType['MOVE']['ARM']['CLEARANCE'], clearance_mvt, 'clearance move')\n"
   ]
  },
  {
   "source": [
    "#### Definition de l'action de mouvement station"
   ],
   "cell_type": "markdown",
   "metadata": {}
  },
  {
   "cell_type": "code",
   "execution_count": 371,
   "metadata": {},
   "outputs": [],
   "source": [
    "station_work_action = Action('1314', ActionType['MOVE']['STATION']['WORK'], {}, 'move station to rail')\n",
    "station_home_action = Action('2223', ActionType['MOVE']['STATION']['HOME'], {}, 'move station to home')"
   ]
  },
  {
   "source": [
    "#### Definition des actions chargement effecteur et outil"
   ],
   "cell_type": "markdown",
   "metadata": {}
  },
  {
   "cell_type": "code",
   "execution_count": 372,
   "metadata": {},
   "outputs": [],
   "source": [
    "loadeff_action = Action('1516', ActionType['LOAD']['EFFECTOR'], {}, 'load effector')\n",
    "loadtool_action = Action('1718', ActionType['LOAD']['TOOL'], {}, 'load tool')\n"
   ]
  },
  {
   "source": [
    "Definition des actions dechargement effecteur et outil"
   ],
   "cell_type": "markdown",
   "metadata": {}
  },
  {
   "cell_type": "code",
   "execution_count": 373,
   "metadata": {},
   "outputs": [],
   "source": [
    "unloadeff_action = Action('1920', ActionType['LOAD']['EFFECTOR'], {}, 'unload effector')\n",
    "unloadtool_action = Action('2021', ActionType['LOAD']['TOOL'], {}, 'unload tool')"
   ]
  },
  {
   "source": [
    "#### Creation des relations **dependencies** et **next**"
   ],
   "cell_type": "markdown",
   "metadata": {}
  },
  {
   "cell_type": "code",
   "execution_count": 374,
   "metadata": {},
   "outputs": [],
   "source": [
    "# ajout des dependences de l'action drill => load effector, load tool et work movement\n",
    "drill.dependencies = [loadeff_action, loadtool_action, work_action]\n",
    "\n",
    "# ajout des dependances de l'action work movement => approach movement\n",
    "work_action.dependencies = [approach_action]\n",
    "\n",
    "# ajout des dependances de l'action approach movement => changement de station\n",
    "approach_action.dependencies = [station_work_action]\n"
   ]
  },
  {
   "cell_type": "code",
   "execution_count": 375,
   "metadata": {},
   "outputs": [],
   "source": [
    "# ajout des next de l'action approach => clearance movement\n",
    "approach_action.next = [clearance_action]\n",
    "\n",
    "# ajout des next de l'action load effector => unload effector\n",
    "loadeff_action.next = [unloadeff_action]\n",
    "\n",
    "# ajout des next de l'action load tool => unload tool\n",
    "loadtool_action.next = [unloadtool_action]\n",
    "\n",
    "# ajout des next de l'action move station work => move station home\n",
    "station_work_action.next =  [station_home_action]"
   ]
  },
  {
   "source": [
    "#### List des dependances et next"
   ],
   "cell_type": "markdown",
   "metadata": {}
  },
  {
   "cell_type": "code",
   "execution_count": 376,
   "metadata": {},
   "outputs": [],
   "source": [
    "dnl = Dependencies.listDependances(drill)"
   ]
  },
  {
   "cell_type": "code",
   "execution_count": 377,
   "metadata": {},
   "outputs": [
    {
     "output_type": "execute_result",
     "data": {
      "text/plain": [
       "[load effector,\n",
       " load tool,\n",
       " move station to rail,\n",
       " approach move,\n",
       " move to fastener asna2392-3-04.178,\n",
       " drill fastener asna2392-3-04.178,\n",
       " clearance move,\n",
       " unload tool,\n",
       " unload effector,\n",
       " move station to home]"
      ]
     },
     "metadata": {},
     "execution_count": 377
    }
   ],
   "source": [
    "# afichage de l'ensemble des action \n",
    "dnl"
   ]
  },
  {
   "source": [
    "#### Construction de l'arbre "
   ],
   "cell_type": "markdown",
   "metadata": {}
  },
  {
   "cell_type": "code",
   "execution_count": 378,
   "metadata": {},
   "outputs": [],
   "source": [
    "#creation de l'arbre\n",
    "process_tree = ActionTree()\n",
    "# ajout de la liste d'actions\n",
    "process_tree.add_actions(dnl)\n"
   ]
  },
  {
   "cell_type": "code",
   "execution_count": 379,
   "metadata": {},
   "outputs": [
    {
     "output_type": "stream",
     "name": "stdout",
     "text": [
      "root\n├── load effector\n│   ├── load tool\n│   │   └── move station to rail\n│   │       ├── approach move\n│   │       │   └── move to fastener asna2392-3-04.178\n│   │       │       └── drill fastener asna2392-3-04.178\n│   │       └── clearance move\n│   └── unload tool\n├── unload effector\n└── move station to home\n\n"
     ]
    }
   ],
   "source": [
    "process_tree.show()"
   ]
  },
  {
   "cell_type": "code",
   "execution_count": null,
   "metadata": {},
   "outputs": [],
   "source": []
  }
 ],
 "metadata": {
  "kernelspec": {
   "name": "python362jvsc74a57bd0c9ed314b904907a4c4e53c9fcb6bf4c0c17cbf8e65a4ac8bddd1024b2b151b75",
   "display_name": "Python 3.6.2 32-bit ('mars': conda)"
  },
  "language_info": {
   "codemirror_mode": {
    "name": "ipython",
    "version": 3
   },
   "file_extension": ".py",
   "mimetype": "text/x-python",
   "name": "python",
   "nbconvert_exporter": "python",
   "pygments_lexer": "ipython3",
   "version": "3.6.2"
  }
 },
 "nbformat": 4,
 "nbformat_minor": 2
}